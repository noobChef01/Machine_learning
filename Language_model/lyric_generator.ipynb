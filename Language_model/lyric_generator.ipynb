{
  "cells": [
    {
      "metadata": {
        "_uuid": "2c5a6c9ab99f4dfae569fabffcbe68738c87f692"
      },
      "cell_type": "markdown",
      "source": "## Load libraries and data"
    },
    {
      "metadata": {
        "trusted": true,
        "_uuid": "c4fe3323b1fc4235b1156f835e893e56ce390069"
      },
      "cell_type": "code",
      "source": "import pandas as pd\nfrom fastai.text import *",
      "execution_count": 1,
      "outputs": []
    },
    {
      "metadata": {
        "_uuid": "8f2839f25d086af736a60e9eeb907d3b93b6e0e5",
        "_cell_guid": "b1076dfc-b9ad-4769-8c92-a6c4dae69d19",
        "trusted": true
      },
      "cell_type": "code",
      "source": "path = '../input/'\nsong_dat = pd.read_csv(path+'songdata.csv').drop(['link', 'song'], axis=1)\nsong_dat.head()",
      "execution_count": 3,
      "outputs": [
        {
          "output_type": "execute_result",
          "execution_count": 3,
          "data": {
            "text/plain": "  artist                                               text\n0   ABBA  Look at her face, it's a wonderful face  \\nAnd...\n1   ABBA  Take it easy with me, please  \\nTouch me gentl...\n2   ABBA  I'll never know why I had to go  \\nWhy I had t...\n3   ABBA  Making somebody happy is a question of give an...\n4   ABBA  Making somebody happy is a question of give an...",
            "text/html": "<div>\n<style scoped>\n    .dataframe tbody tr th:only-of-type {\n        vertical-align: middle;\n    }\n\n    .dataframe tbody tr th {\n        vertical-align: top;\n    }\n\n    .dataframe thead th {\n        text-align: right;\n    }\n</style>\n<table border=\"1\" class=\"dataframe\">\n  <thead>\n    <tr style=\"text-align: right;\">\n      <th></th>\n      <th>artist</th>\n      <th>text</th>\n    </tr>\n  </thead>\n  <tbody>\n    <tr>\n      <th>0</th>\n      <td>ABBA</td>\n      <td>Look at her face, it's a wonderful face  \\nAnd...</td>\n    </tr>\n    <tr>\n      <th>1</th>\n      <td>ABBA</td>\n      <td>Take it easy with me, please  \\nTouch me gentl...</td>\n    </tr>\n    <tr>\n      <th>2</th>\n      <td>ABBA</td>\n      <td>I'll never know why I had to go  \\nWhy I had t...</td>\n    </tr>\n    <tr>\n      <th>3</th>\n      <td>ABBA</td>\n      <td>Making somebody happy is a question of give an...</td>\n    </tr>\n    <tr>\n      <th>4</th>\n      <td>ABBA</td>\n      <td>Making somebody happy is a question of give an...</td>\n    </tr>\n  </tbody>\n</table>\n</div>"
          },
          "metadata": {}
        }
      ]
    },
    {
      "metadata": {
        "_cell_guid": "79c7e3d0-c299-4dcb-8224-4455121ee9b0",
        "collapsed": true,
        "_uuid": "d629ff2d2480ee46fbb7e2d37f6b5fab8052498a",
        "trusted": false
      },
      "cell_type": "markdown",
      "source": "### Filter-out Artists that i know of more or less"
    },
    {
      "metadata": {
        "trusted": true,
        "_uuid": "bb11a4ab8a98769acb58589916f0a98edcd27b0d"
      },
      "cell_type": "code",
      "source": "artist_list = [\n    'Avril Lavigne',\n    'Bob Marley',\n    'Bon Jovi',\n    'Bruno Mars',\n    'Coldplay',\n    'Ed Sheeran',\n    'Enrique Iglesias',\n    'Fall Out Boy',\n    'Foo Fighters',\n    'Green Day'\n    ]",
      "execution_count": 4,
      "outputs": []
    },
    {
      "metadata": {
        "trusted": true,
        "_uuid": "91369b11e43cd11694f6e4cbad73484adb0883b0"
      },
      "cell_type": "code",
      "source": "song_dat = song_dat.loc[song_dat.artist.isin(artist_list), :].reset_index(drop=True)\nsong_dat = song_dat.sample(frac=0.3, replace=False, random_state=12).reset_index(drop=True)\nsong_dat.head()",
      "execution_count": 5,
      "outputs": [
        {
          "output_type": "execute_result",
          "execution_count": 5,
          "data": {
            "text/plain": "             artist                                               text\n0          Coldplay  Where is my boy?  \\nI saw you come out of a sc...\n1          Bon Jovi  You want commitment, and take a look into thes...\n2        Bruno Mars  Oh I never done this before  \\nNever wanna do ...\n3      Foo Fighters  All the things I said I wanted turned out to b...\n4  Enrique Iglesias  So Turn Up the Night  \\nI know you want it, oh...",
            "text/html": "<div>\n<style scoped>\n    .dataframe tbody tr th:only-of-type {\n        vertical-align: middle;\n    }\n\n    .dataframe tbody tr th {\n        vertical-align: top;\n    }\n\n    .dataframe thead th {\n        text-align: right;\n    }\n</style>\n<table border=\"1\" class=\"dataframe\">\n  <thead>\n    <tr style=\"text-align: right;\">\n      <th></th>\n      <th>artist</th>\n      <th>text</th>\n    </tr>\n  </thead>\n  <tbody>\n    <tr>\n      <th>0</th>\n      <td>Coldplay</td>\n      <td>Where is my boy?  \\nI saw you come out of a sc...</td>\n    </tr>\n    <tr>\n      <th>1</th>\n      <td>Bon Jovi</td>\n      <td>You want commitment, and take a look into thes...</td>\n    </tr>\n    <tr>\n      <th>2</th>\n      <td>Bruno Mars</td>\n      <td>Oh I never done this before  \\nNever wanna do ...</td>\n    </tr>\n    <tr>\n      <th>3</th>\n      <td>Foo Fighters</td>\n      <td>All the things I said I wanted turned out to b...</td>\n    </tr>\n    <tr>\n      <th>4</th>\n      <td>Enrique Iglesias</td>\n      <td>So Turn Up the Night  \\nI know you want it, oh...</td>\n    </tr>\n  </tbody>\n</table>\n</div>"
          },
          "metadata": {}
        }
      ]
    },
    {
      "metadata": {
        "trusted": true,
        "_uuid": "5ae2bc8c33e6677bf179ed249a0a0dab40c9ff14"
      },
      "cell_type": "code",
      "source": "song_dat.shape",
      "execution_count": 6,
      "outputs": [
        {
          "output_type": "execute_result",
          "execution_count": 6,
          "data": {
            "text/plain": "(344, 2)"
          },
          "metadata": {}
        }
      ]
    },
    {
      "metadata": {
        "trusted": true,
        "_uuid": "fdc0fa50d94b1e8fbb0bbdc6b98dd5def0b5d3e4"
      },
      "cell_type": "code",
      "source": "bs = 48",
      "execution_count": 7,
      "outputs": []
    },
    {
      "metadata": {
        "_uuid": "8acdf4d7ec3956b47b49bfff4590110005347ae8"
      },
      "cell_type": "markdown",
      "source": "### Prep data for modellling"
    },
    {
      "metadata": {
        "trusted": true,
        "_uuid": "8f849ac31933fb62cd0edfbf13347a98f92a7eac"
      },
      "cell_type": "code",
      "source": "data_lm = (TextList.from_df(path='.', df=song_dat, cols=1)\n            .random_split_by_pct(0.1)\n            .label_for_lm()           \n            .databunch(bs=bs))\ndata_lm.save('/tmp/'+'data_lm.pkl')",
      "execution_count": 8,
      "outputs": []
    },
    {
      "metadata": {
        "trusted": true,
        "_uuid": "77563d09d38e5efee2ff5acea5b2e3ee11329917"
      },
      "cell_type": "code",
      "source": "data_lm = load_data('/tmp/', fname='data_lm.pkl', bs=bs)\n\ndata_lm.show_batch()",
      "execution_count": 9,
      "outputs": [
        {
          "output_type": "display_data",
          "data": {
            "text/plain": "<IPython.core.display.HTML object>",
            "text/html": "<table>  <col width='5%'>  <col width='95%'>  <tr>\n    <th>idx</th>\n    <th>text</th>\n  </tr>\n  <tr>\n    <th>0</th>\n    <th>eyes to my world \\n  i see you come out of it all \\n  xxmaj xxunk and xxunk \\n  xxmaj and xxunk , oh \\n \\n  xxmaj come on in \\n  xxmaj in xxunk i live in \\n  xxmaj and changes you 're making \\n  xxmaj to the state of xxunk \\n \\n  xxmaj calling \" where is my boy ? \"</th>\n  </tr>\n  <tr>\n    <th>1</th>\n    <th>out of key \\n \\n  xxmaj sister of mine , home again \\n  xxmaj sister of mine , home again \\n \\n  xxmaj broken on a ship of fools \\n  xxmaj even dreams must fall to xxunk \\n  xxmaj so xxunk \\n \\n  xxmaj words are all just xxunk sound \\n  xxmaj just like xxunk they fall around \\n  xxmaj and we</th>\n  </tr>\n  <tr>\n    <th>2</th>\n    <th>show me , you got to you got to show me \\n  xxmaj you tell me all day that you 're lonely \\n  xxmaj but show me show me show me tonight , yeah \\n \\n  xxmaj love the way that you laugh , the way that you smile \\n  xxmaj makes me feel like you 've been waiting a while xxmaj but guess what ?</th>\n  </tr>\n  <tr>\n    <th>3</th>\n    <th>turn the outside in to the inside \\n  xxmaj xxunk your outside in for the inside \\n  xxmaj turn it around again \\n \\n  i 'm amounted \\n \\n  xxmaj and i ca n't change back for you \\n  xxmaj no i ca n't change back for you \\n \\n  xxbos xxmaj oh i was perfect \\n  xxmaj for the circus \\n </th>\n  </tr>\n  <tr>\n    <th>4</th>\n    <th>xxmaj night \\n \\n  xxmaj where xxmaj did xxmaj she go \\n  xxmaj where xxmaj did xxmaj she go \\n  xxmaj where 'd xxmaj she go \\n  i 've xxmaj been xxmaj looking xxmaj for xxmaj her xxmaj all xxmaj night \\n \\n  xxmaj where xxmaj did xxmaj she go \\n  xxmaj where xxmaj did xxmaj she go \\n  xxmaj where 'd xxmaj</th>\n  </tr>\n</table>\n"
          },
          "metadata": {}
        }
      ]
    },
    {
      "metadata": {
        "_uuid": "074965a1c1d733be51f3ee43487198effd83c333"
      },
      "cell_type": "markdown",
      "source": "## Modelling"
    },
    {
      "metadata": {
        "trusted": true,
        "_uuid": "1765ba0439e87eba1ae21dabc8ca4dff09af877d"
      },
      "cell_type": "code",
      "source": "learn = language_model_learner(data_lm, AWD_LSTM, pretrained=False, drop_mult=0.3, model_dir=\"/tmp/model/\")",
      "execution_count": 10,
      "outputs": []
    },
    {
      "metadata": {
        "trusted": true,
        "_uuid": "39ed8c02fa5ef9feecd3dc129b11f35398a0159f"
      },
      "cell_type": "code",
      "source": "learn.lr_find()\nlearn.recorder.plot(skip_start=25)",
      "execution_count": 11,
      "outputs": [
        {
          "output_type": "display_data",
          "data": {
            "text/plain": "<IPython.core.display.HTML object>",
            "text/html": ""
          },
          "metadata": {}
        },
        {
          "output_type": "stream",
          "text": "LR Finder is complete, type {learner_name}.recorder.plot() to see the graph.\nMin numerical gradient: 1.74E-03\n",
          "name": "stdout"
        },
        {
          "output_type": "display_data",
          "data": {
            "text/plain": "<Figure size 432x288 with 1 Axes>",
            "image/png": "[encoded data removed]"
          },
          "metadata": {}
        }
      ]
    },
    {
      "metadata": {
        "trusted": true,
        "_uuid": "38b7c74d6cca9cf5d9b21d3715d5fd257babd6a4"
      },
      "cell_type": "code",
      "source": "learn.fit_one_cycle(4, 1e-2, moms=(0.8,0.7))",
      "execution_count": 12,
      "outputs": [
        {
          "output_type": "display_data",
          "data": {
            "text/plain": "<IPython.core.display.HTML object>",
            "text/html": "Total time: 00:43 <p><table style='width:300px; margin-bottom:10px'>\n  <tr>\n    <th>epoch</th>\n    <th>train_loss</th>\n    <th>valid_loss</th>\n    <th>accuracy</th>\n  </tr>\n  <tr>\n    <th>1</th>\n    <th>5.819149</th>\n    <th>5.132161</th>\n    <th>0.103175</th>\n  </tr>\n  <tr>\n    <th>2</th>\n    <th>5.487025</th>\n    <th>5.138243</th>\n    <th>0.103175</th>\n  </tr>\n  <tr>\n    <th>3</th>\n    <th>5.355872</th>\n    <th>5.056710</th>\n    <th>0.103175</th>\n  </tr>\n  <tr>\n    <th>4</th>\n    <th>5.280820</th>\n    <th>5.049484</th>\n    <th>0.103175</th>\n  </tr>\n</table>\n"
          },
          "metadata": {}
        }
      ]
    },
    {
      "metadata": {
        "trusted": true,
        "_uuid": "86eb54ca1fb4e0f720f131d5071ef38931535ab6"
      },
      "cell_type": "code",
      "source": "learn.fit_one_cycle(2, 1e-3, moms=(0.8,0.7))",
      "execution_count": 13,
      "outputs": [
        {
          "output_type": "display_data",
          "data": {
            "text/plain": "<IPython.core.display.HTML object>",
            "text/html": "Total time: 00:22 <p><table style='width:300px; margin-bottom:10px'>\n  <tr>\n    <th>epoch</th>\n    <th>train_loss</th>\n    <th>valid_loss</th>\n    <th>accuracy</th>\n  </tr>\n  <tr>\n    <th>1</th>\n    <th>5.197729</th>\n    <th>5.048249</th>\n    <th>0.103175</th>\n  </tr>\n  <tr>\n    <th>2</th>\n    <th>5.196630</th>\n    <th>5.050473</th>\n    <th>0.103175</th>\n  </tr>\n</table>\n"
          },
          "metadata": {}
        }
      ]
    },
    {
      "metadata": {
        "_uuid": "4608ee617093cba606a90b54e0e629e9be8405ff"
      },
      "cell_type": "markdown",
      "source": "### Music generation"
    },
    {
      "metadata": {
        "trusted": true,
        "_uuid": "c757f308f38b67ecf2f281667727086d4e8f6986"
      },
      "cell_type": "code",
      "source": "def gen_lyric(primer, n_words, n_sen, temp):\n    print(\"\\n\".join(learn.predict(primer, n_words, temperature=temp) for _ in range(n_sen)))",
      "execution_count": 14,
      "outputs": []
    },
    {
      "metadata": {
        "trusted": true,
        "_uuid": "b43de0d5ec558f540dfcac741af924196e1cbb0f"
      },
      "cell_type": "code",
      "source": "gen_lyric('I wanna go home', 40, 1, 0.8)",
      "execution_count": 17,
      "outputs": [
        {
          "output_type": "stream",
          "text": "I wanna go home To 's \n \n  and you in On I . Way left when i I \n  let enough 'm me I up a me \n  One if world i \n  \n  , the\n",
          "name": "stdout"
        }
      ]
    },
    {
      "metadata": {
        "trusted": true,
        "_uuid": "7f40fffae5c19c665a4cb15f577a0180d3760d7d"
      },
      "cell_type": "code",
      "source": "gen_lyric('Loving can hurt', 40, 3, 0.9)",
      "execution_count": 19,
      "outputs": [
        {
          "output_type": "stream",
          "text": "Loving can hurt chorus \n  for from he , about the you is never I you far the was you \n \n  \n  ' \n \n  had \n  do \n  kid my that you me me I friends With that\nLoving can hurt no wish take , \n  Baby from \n \n  \n  you Oh something i you you \n  promises 're gon go never your i on \n  . Of \n  To , my in\nLoving can hurt you you in Who 'm i better \n  this 'll me i but , Downpressors cheap Have n't i this , comes dying \n  ' there \n  By you i around run Got \n  in\n",
          "name": "stdout"
        }
      ]
    }
  ],
  "metadata": {
    "kernelspec": {
      "display_name": "Python 3",
      "language": "python",
      "name": "python3"
    },
    "language_info": {
      "name": "python",
      "version": "3.6.6",
      "mimetype": "text/x-python",
      "codemirror_mode": {
        "name": "ipython",
        "version": 3
      },
      "pygments_lexer": "ipython3",
      "nbconvert_exporter": "python",
      "file_extension": ".py"
    }
  },
  "nbformat": 4,
  "nbformat_minor": 1
}