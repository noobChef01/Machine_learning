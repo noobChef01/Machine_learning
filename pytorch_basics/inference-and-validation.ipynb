{
 "cells": [
  {
   "cell_type": "markdown",
   "metadata": {
    "_cell_guid": "b1076dfc-b9ad-4769-8c92-a6c4dae69d19",
    "_uuid": "8f2839f25d086af736a60e9eeb907d3b93b6e0e5"
   },
   "source": [
    "## Inference and Validation\n",
    "Now that you have a trained network, you can use it for making predictions. This is typically called inference, a term borrowed from statistics. However, neural networks have a tendency to perform too well on the training data and aren't able to generalize to data that hasn't been seen before. This is called overfitting and it impairs inference performance. To test for overfitting while training, we measure the performance on data not in the training set called the validation set. We avoid overfitting through regularization such as dropout while monitoring the validation performance during training. In this notebook, I'll show you how to do this in PyTorch.\n",
    "\n",
    "As usual, let's start by loading the dataset through torchvision. You'll learn more about torchvision and loading data in a later part. This time we'll be taking advantage of the test set which you can get by setting train=False here:\n",
    "\n",
    "`testset = datasets.FashionMNIST('~/.pytorch/F_MNIST_data/', download=True, train=False, transform=transform)`\n",
    "\n",
    "The test set contains images just like the training set. Typically you'll see 10-20% of the original dataset held out for testing and validation with the rest being used for training."
   ]
  },
  {
   "cell_type": "code",
   "execution_count": 1,
   "metadata": {
    "_cell_guid": "79c7e3d0-c299-4dcb-8224-4455121ee9b0",
    "_uuid": "d629ff2d2480ee46fbb7e2d37f6b5fab8052498a"
   },
   "outputs": [
    {
     "name": "stderr",
     "output_type": "stream",
     "text": [
      "0it [00:00, ?it/s]"
     ]
    },
    {
     "name": "stdout",
     "output_type": "stream",
     "text": [
      "Downloading http://fashion-mnist.s3-website.eu-central-1.amazonaws.com/train-images-idx3-ubyte.gz to /tmp/.pytorch/F_MNIST_data/FashionMNIST/raw/train-images-idx3-ubyte.gz\n"
     ]
    },
    {
     "name": "stderr",
     "output_type": "stream",
     "text": [
      "26427392it [00:01, 13927008.31it/s]                             \n"
     ]
    },
    {
     "name": "stdout",
     "output_type": "stream",
     "text": [
      "Extracting /tmp/.pytorch/F_MNIST_data/FashionMNIST/raw/train-images-idx3-ubyte.gz\n"
     ]
    },
    {
     "name": "stderr",
     "output_type": "stream",
     "text": [
      "0it [00:00, ?it/s]"
     ]
    },
    {
     "name": "stdout",
     "output_type": "stream",
     "text": [
      "Downloading http://fashion-mnist.s3-website.eu-central-1.amazonaws.com/train-labels-idx1-ubyte.gz to /tmp/.pytorch/F_MNIST_data/FashionMNIST/raw/train-labels-idx1-ubyte.gz\n"
     ]
    },
    {
     "name": "stderr",
     "output_type": "stream",
     "text": [
      "32768it [00:00, 95028.17it/s]                            \n",
      "0it [00:00, ?it/s]"
     ]
    },
    {
     "name": "stdout",
     "output_type": "stream",
     "text": [
      "Extracting /tmp/.pytorch/F_MNIST_data/FashionMNIST/raw/train-labels-idx1-ubyte.gz\n",
      "Downloading http://fashion-mnist.s3-website.eu-central-1.amazonaws.com/t10k-images-idx3-ubyte.gz to /tmp/.pytorch/F_MNIST_data/FashionMNIST/raw/t10k-images-idx3-ubyte.gz\n"
     ]
    },
    {
     "name": "stderr",
     "output_type": "stream",
     "text": [
      "4423680it [00:01, 3937956.87it/s]                             \n",
      "0it [00:00, ?it/s]"
     ]
    },
    {
     "name": "stdout",
     "output_type": "stream",
     "text": [
      "Extracting /tmp/.pytorch/F_MNIST_data/FashionMNIST/raw/t10k-images-idx3-ubyte.gz\n",
      "Downloading http://fashion-mnist.s3-website.eu-central-1.amazonaws.com/t10k-labels-idx1-ubyte.gz to /tmp/.pytorch/F_MNIST_data/FashionMNIST/raw/t10k-labels-idx1-ubyte.gz\n"
     ]
    },
    {
     "name": "stderr",
     "output_type": "stream",
     "text": [
      "8192it [00:00, 32302.22it/s]            \n"
     ]
    },
    {
     "name": "stdout",
     "output_type": "stream",
     "text": [
      "Extracting /tmp/.pytorch/F_MNIST_data/FashionMNIST/raw/t10k-labels-idx1-ubyte.gz\n",
      "Processing...\n",
      "Done!\n"
     ]
    }
   ],
   "source": [
    "import numpy as np\n",
    "import torch\n",
    "from torchvision import datasets, transforms\n",
    "\n",
    "# Define a transform to normalize the data\n",
    "transform = transforms.Compose([transforms.ToTensor(),\n",
    "                                transforms.Normalize((0.5,), (0.5,))])\n",
    "# Download and load the training data\n",
    "trainset = datasets.FashionMNIST('~/.pytorch/F_MNIST_data/', download=True, train=True, transform=transform)\n",
    "trainloader = torch.utils.data.DataLoader(trainset, batch_size=64, shuffle=True)\n",
    "\n",
    "# Download and load the test data\n",
    "testset = datasets.FashionMNIST('~/.pytorch/F_MNIST_data/', download=True, train=False, transform=transform)\n",
    "# better to use all datafor the testloader as batch_size, since it won't be used for training and only for validation \n",
    "testloader = torch.utils.data.DataLoader(testset, batch_size=len(testset), shuffle=True)"
   ]
  },
  {
   "cell_type": "markdown",
   "metadata": {},
   "source": [
    "Here I'll create a model like normal, using the same one from my solution for part 4."
   ]
  },
  {
   "cell_type": "code",
   "execution_count": 2,
   "metadata": {},
   "outputs": [],
   "source": [
    "from torch import nn, optim\n",
    "import torch.nn.functional as F\n",
    "\n",
    "class Classifier(nn.Module):\n",
    "    def __init__(self):\n",
    "        super().__init__()\n",
    "        self.fc1 = nn.Linear(784, 256)\n",
    "        self.fc2 = nn.Linear(256, 128)\n",
    "        self.fc3 = nn.Linear(128, 64)\n",
    "        self.fc4 = nn.Linear(64, 10)\n",
    "        \n",
    "    def forward(self, x):\n",
    "        # make sure input tensor is flattened\n",
    "        x = x.view(x.shape[0], -1)\n",
    "        \n",
    "        x = F.relu(self.fc1(x))\n",
    "        x = F.relu(self.fc2(x))\n",
    "        x = F.relu(self.fc3(x))\n",
    "        x = F.log_softmax(self.fc4(x), dim=1)\n",
    "        \n",
    "        return x"
   ]
  },
  {
   "cell_type": "markdown",
   "metadata": {},
   "source": [
    "The goal of validation is to measure the model's performance on data that isn't part of the training set. Performance here is up to the developer to define though. Typically this is just accuracy, the percentage of classes the network predicted correctly. Other options are precision and recall) and top-5 error rate. We'll focus on accuracy here. First I'll do a forward pass with one batch from the test set."
   ]
  },
  {
   "cell_type": "code",
   "execution_count": 3,
   "metadata": {},
   "outputs": [
    {
     "name": "stdout",
     "output_type": "stream",
     "text": [
      "torch.Size([10000, 10])\n"
     ]
    }
   ],
   "source": [
    "model = Classifier()\n",
    "\n",
    "images, labels = next(iter(testloader))\n",
    "# Get the class probabilities\n",
    "ps = torch.exp(model(images))\n",
    "# Make sure the shape is appropriate, we should get 10 class probabilities for 64 examples\n",
    "print(ps.shape)"
   ]
  },
  {
   "cell_type": "markdown",
   "metadata": {},
   "source": [
    "With the probabilities, we can get the most likely class using the ps.topk method. This returns the $k$ highest values. Since we just want the most likely class, we can use ps.topk(1). This returns a tuple of the top-$k$ values and the top-$k$ indices. If the highest value is the fifth element, we'll get back 4 as the index. (dim=1: across rows and dim=0: across columns). Works on any tensor "
   ]
  },
  {
   "cell_type": "code",
   "execution_count": 4,
   "metadata": {},
   "outputs": [
    {
     "name": "stdout",
     "output_type": "stream",
     "text": [
      "tensor([[1],\n",
      "        [1],\n",
      "        [1],\n",
      "        [6],\n",
      "        [8],\n",
      "        [9],\n",
      "        [6],\n",
      "        [8],\n",
      "        [1],\n",
      "        [1]])\n"
     ]
    }
   ],
   "source": [
    "top_ps, top_cls = ps.topk(1, dim=1)\n",
    "# look at forst 10 only\n",
    "print(top_cls[:10])"
   ]
  },
  {
   "cell_type": "code",
   "execution_count": 5,
   "metadata": {},
   "outputs": [],
   "source": [
    "#equals = top_cls.numpy().squeeze() == labels.numpy()\n",
    "equals = top_cls.view(-1) == labels"
   ]
  },
  {
   "cell_type": "markdown",
   "metadata": {},
   "source": [
    "Now we can check if the predicted classes match the labels. This is simple to do by equating top_class and labels, but we have to be careful of the shapes. Here top_class is a 2D tensor with shape (64, 1) while labels is 1D with shape (64). To get the equality to work out the way we want, top_class and labels must have the same shape.\n",
    "\n",
    "If we do\n",
    "\n",
    "`equals = top_class == labels`\n",
    "\n",
    "equals will have shape (64, 64), try it yourself. What it's doing is comparing the one element in each row of top_class with each element in labels which returns 64 True/False boolean values for each row."
   ]
  },
  {
   "cell_type": "markdown",
   "metadata": {},
   "source": [
    "Now we need to calculate the percentage of correct predictions. equals has binary values, either 0 or 1. This means that if we just sum up all the values and divide by the number of values, we get the percentage of correct predictions. This is the same operation as taking the mean, so we can get the accuracy with a call to torch.mean. If only it was that simple. If you try torch.mean(equals), you'll get an error\n",
    "\n",
    "`RuntimeError: mean is not implemented for type torch.ByteTensor`\n",
    "\n",
    "This happens because equals has type torch.ByteTensor but torch.mean isn't implemented for tensors with that type. So we'll need to convert equals to a float tensor. Note that when we take torch.mean it returns a scalar tensor, to get the actual value as a float we'll need to do accuracy.item().\n",
    "\n",
    "To convert a tensor use tensor.type(torch.tensor_type)"
   ]
  },
  {
   "cell_type": "code",
   "execution_count": 6,
   "metadata": {},
   "outputs": [
    {
     "name": "stdout",
     "output_type": "stream",
     "text": [
      "Accuracy: 7.11%\n"
     ]
    }
   ],
   "source": [
    "#accuracy = np.mean(equals)\n",
    "accuracy = torch.mean(equals.type(torch.FloatTensor))\n",
    "print(f'Accuracy: {accuracy*100:.2f}%')"
   ]
  },
  {
   "cell_type": "markdown",
   "metadata": {},
   "source": [
    "Better to convert the tesors to numpy array during Inference."
   ]
  },
  {
   "cell_type": "markdown",
   "metadata": {},
   "source": [
    "The network is untrained so it's making random guesses and we should see an accuracy around 10%. Now let's train our network and include our validation pass so we can measure how well the network is performing on the test set. Since we're not updating our parameters in the validation pass, we can speed up our code by turning off gradients using torch.no_grad():\n",
    "\n",
    "# turn off gradients\n",
    "\n",
    "`with torch.no_grad():`\n",
    "    `# validation pass here`\n",
    "    `for images, labels in testloader:`\n",
    "        `...`\n",
    "        \n",
    ">Exercise: Implement the validation loop below and print out the total accuracy after the loop. You can largely copy and paste the code from above, but I suggest typing it in because writing it out yourself is essential for building the skill. In general you'll always learn more by typing it rather than copy-pasting. You should be able to get an accuracy above 80%."
   ]
  },
  {
   "cell_type": "code",
   "execution_count": 7,
   "metadata": {},
   "outputs": [
    {
     "name": "stdout",
     "output_type": "stream",
     "text": [
      "Epoch: 0    Train_Loss: 0.52    Test_Loss: 0.43    Test_Accuracy 84.49\n",
      "Epoch: 1    Train_Loss: 0.39    Test_Loss: 0.40    Test_Accuracy 85.32\n",
      "Epoch: 2    Train_Loss: 0.36    Test_Loss: 0.41    Test_Accuracy 84.39\n",
      "Epoch: 3    Train_Loss: 0.34    Test_Loss: 0.37    Test_Accuracy 86.79\n",
      "Epoch: 4    Train_Loss: 0.32    Test_Loss: 0.38    Test_Accuracy 86.79\n",
      "Epoch: 5    Train_Loss: 0.30    Test_Loss: 0.37    Test_Accuracy 86.73\n",
      "Epoch: 6    Train_Loss: 0.29    Test_Loss: 0.37    Test_Accuracy 87.39\n",
      "Epoch: 7    Train_Loss: 0.28    Test_Loss: 0.38    Test_Accuracy 87.16\n",
      "Epoch: 8    Train_Loss: 0.27    Test_Loss: 0.36    Test_Accuracy 87.63\n",
      "Epoch: 9    Train_Loss: 0.27    Test_Loss: 0.37    Test_Accuracy 87.80\n",
      "Epoch: 10    Train_Loss: 0.26    Test_Loss: 0.38    Test_Accuracy 87.36\n",
      "Epoch: 11    Train_Loss: 0.25    Test_Loss: 0.39    Test_Accuracy 86.51\n",
      "Epoch: 12    Train_Loss: 0.25    Test_Loss: 0.37    Test_Accuracy 88.04\n",
      "Epoch: 13    Train_Loss: 0.24    Test_Loss: 0.38    Test_Accuracy 87.84\n",
      "Epoch: 14    Train_Loss: 0.24    Test_Loss: 0.40    Test_Accuracy 87.74\n",
      "Epoch: 15    Train_Loss: 0.23    Test_Loss: 0.39    Test_Accuracy 87.79\n",
      "Epoch: 16    Train_Loss: 0.23    Test_Loss: 0.38    Test_Accuracy 88.06\n",
      "Epoch: 17    Train_Loss: 0.22    Test_Loss: 0.39    Test_Accuracy 87.85\n",
      "Epoch: 18    Train_Loss: 0.22    Test_Loss: 0.38    Test_Accuracy 88.26\n",
      "Epoch: 19    Train_Loss: 0.22    Test_Loss: 0.38    Test_Accuracy 88.03\n"
     ]
    }
   ],
   "source": [
    "model = Classifier()\n",
    "criterion = nn.NLLLoss()\n",
    "optimizer = optim.Adam(model.parameters(), lr=0.003)\n",
    "\n",
    "epochs = 20\n",
    "\n",
    "train_losses, test_losses = [], []\n",
    "for e in range(epochs):\n",
    "    running_train_loss = 0\n",
    "    for images, labels in trainloader:\n",
    "        optimizer.zero_grad()\n",
    "        log_ps = model(images)\n",
    "        loss = criterion(log_ps, labels)\n",
    "        loss.backward()\n",
    "        optimizer.step()\n",
    "        running_train_loss += loss.item()\n",
    "    \n",
    "    train_loss = running_train_loss/len(trainloader)\n",
    "    train_losses.append(train_loss)\n",
    "    \n",
    "    test_loss = 0\n",
    "    with torch.no_grad(): # keep the context manager here, so it doesn't get called each time \n",
    "        for images, labels in testloader:\n",
    "            log_ps = model(images)\n",
    "            loss = criterion(log_ps, labels)\n",
    "            test_loss += loss.item()\n",
    "            test_losses.append(loss.item())\n",
    "            \n",
    "            top_ps, top_cls = torch.exp(log_ps).topk(1, dim=1)\n",
    "            accuracy = np.mean(top_cls.numpy().squeeze() == labels.numpy())\n",
    "            \n",
    "    print(f'Epoch: {e}\\\n",
    "    Train_Loss: {train_loss:.2f}\\\n",
    "    Test_Loss: {test_loss:.2f}\\\n",
    "    Test_Accuracy {accuracy*100:.2f}')    "
   ]
  },
  {
   "cell_type": "code",
   "execution_count": 8,
   "metadata": {},
   "outputs": [
    {
     "data": {
      "image/png": "[encoded data removed]",
      "text/plain": [
       "<Figure size 432x288 with 1 Axes>"
      ]
     },
     "metadata": {
      "needs_background": "light"
     },
     "output_type": "display_data"
    }
   ],
   "source": [
    "import matplotlib.pyplot as plt\n",
    "%matplotlib inline\n",
    "\n",
    "plt.plot(train_losses, label='Train')\n",
    "plt.plot(test_losses, label='Test')\n",
    "plt.legend(frameon=False);"
   ]
  },
  {
   "cell_type": "markdown",
   "metadata": {},
   "source": [
    "## Overfitting\n",
    "If we look at the training and validation losses as we train the network, we can see a phenomenon known as overfitting.\n",
    "\n",
    "<img src='assets/overfitting.png' width=450px>\n",
    "\n",
    "The network learns the training set better and better, resulting in lower training losses. However, it starts having problems generalizing to data outside the training set leading to the validation loss increasing. The ultimate goal of any deep learning model is to make predictions on new data, so we should strive to get the lowest validation loss possible. One option is to use the version of the model with the lowest validation loss, here the one around 8-10 training epochs. This strategy is called early-stopping. In practice, you'd save the model frequently as you're training then later choose the model with the lowest validation loss.\n",
    "\n",
    "The most common method to reduce overfitting (outside of early-stopping) is dropout, where we randomly drop input units. This forces the network to share information between weights, increasing it's ability to generalize to new data. Adding dropout in PyTorch is straightforward using the nn.Dropout module.\n",
    "\n",
    "\n",
    "\n",
    "`class Classifier(nn.Module):`\n",
    "    `def __init__(self):`\n",
    "       `super().__init__()\n",
    "        self.fc1 = nn.Linear(784, 256)\n",
    "        self.fc2 = nn.Linear(256, 128)\n",
    "        self.fc3 = nn.Linear(128, 64)\n",
    "        self.fc4 = nn.Linear(64, 10)`\n",
    "\n",
    "        # Dropout module with 0.2 drop probability\n",
    "        self.dropout = nn.Dropout(p=0.2)\n",
    "\n",
    "    `def forward(self, x):\n",
    "        # make sure input tensor is flattened\n",
    "        x = x.view(x.shape[0], -1)\n",
    "\n",
    "        # Now with dropout\n",
    "        x = self.dropout(F.relu(self.fc1(x)))\n",
    "        x = self.dropout(F.relu(self.fc2(x)))\n",
    "        x = self.dropout(F.relu(self.fc3(x)))\n",
    "\n",
    "        # output so no dropout here\n",
    "        x = F.log_softmax(self.fc4(x), dim=1)\n",
    "\n",
    "        return x`"
   ]
  },
  {
   "cell_type": "markdown",
   "metadata": {},
   "source": [
    "During training we want to use dropout to prevent overfitting, but during inference we want to use the entire network. So, we need to turn off dropout during validation, testing, and whenever we're using the network to make predictions. To do this, you use model.eval(). This sets the model to evaluation mode where the dropout probability is 0. You can turn dropout back on by setting the model to train mode with model.train(). In general, the pattern for the validation loop will look like this, where you turn off gradients, set the model to evaluation mode, calculate the validation loss and metric, then set the model back to train mode.\n",
    "\n",
    "# turn off gradients\n",
    "`with torch.no_grad():\n",
    "\n",
    "    # set model to evaluation mode\n",
    "    model.eval()\n",
    "\n",
    "    # validation pass here\n",
    "    for images, labels in testloader:\n",
    "        ...`"
   ]
  },
  {
   "cell_type": "markdown",
   "metadata": {},
   "source": [
    "# set model back to train mode\n",
    "model.train()\n",
    ">Exercise: Add dropout to your model and train it on Fashion-MNIST again. See if you can get a lower validation loss or higher accuracy."
   ]
  },
  {
   "cell_type": "code",
   "execution_count": 9,
   "metadata": {},
   "outputs": [],
   "source": [
    "class Classifier(nn.Module):\n",
    "    def __init__(self):\n",
    "        super().__init__()\n",
    "        self.fc1 = nn.Linear(784, 256)\n",
    "        self.fc2 = nn.Linear(256, 128)\n",
    "        self.fc3 = nn.Linear(128, 64)\n",
    "        self.fc4 = nn.Linear(64, 10)\n",
    "\n",
    "        # dropout with probability of 20%\n",
    "        self.dropout = nn.Dropout(p=0.2) \n",
    "        \n",
    "    def forward(self, x):\n",
    "        x = x.view(x.shape[0], -1)\n",
    "        x = self.dropout(F.relu(self.fc1(x))) # add the dropout to the outputs units of a layer\n",
    "        x = self.dropout(F.relu(self.fc2(x)))\n",
    "        x = self.dropout(F.relu(self.fc3(x)))\n",
    "        return F.log_softmax(self.fc4(x), dim=1)"
   ]
  },
  {
   "cell_type": "markdown",
   "metadata": {},
   "source": [
    "### Train Functions"
   ]
  },
  {
   "cell_type": "code",
   "execution_count": 10,
   "metadata": {},
   "outputs": [],
   "source": [
    "def train(model, criterion, optimizer,tr_loader, val_loader, epochs):\n",
    "    \n",
    "    train_losses, test_losses = [], []\n",
    "    for e in range(epochs):\n",
    "        running_train_loss = 0\n",
    "        for images, labels in tr_loader:\n",
    "            model.train() # turn on dropout with some defined probability\n",
    "            optimizer.zero_grad()\n",
    "            log_ps = model(images)\n",
    "            loss = criterion(log_ps, labels)\n",
    "            loss.backward()\n",
    "            optimizer.step()\n",
    "            running_train_loss += loss.item()\n",
    "\n",
    "        train_loss = running_train_loss/len(tr_loader)\n",
    "        train_losses.append(train_loss)\n",
    "\n",
    "        test_loss = 0\n",
    "        with torch.no_grad(): # keep the context manager here, so it doesn't get called each time \n",
    "            model.eval()\n",
    "            for images, labels in val_loader:\n",
    "                 # turn off dropout with probability of 0\n",
    "                log_ps = model(images)\n",
    "                loss = criterion(log_ps, labels)\n",
    "                test_loss += loss.item()\n",
    "                test_losses.append(loss.item())\n",
    "\n",
    "                top_ps, top_cls = torch.exp(log_ps).topk(1, dim=1)\n",
    "                accuracy = np.mean(top_cls.numpy().squeeze() == labels.numpy())\n",
    "\n",
    "        print(f'Epoch: {e}\\\n",
    "        Train_Loss: {train_loss:.2f}\\\n",
    "        Test_Loss: {test_loss:.2f}\\\n",
    "        Test_Accuracy {accuracy*100:.2f}')    \n",
    "    return train_losses, test_losses\n",
    "\n",
    "def plot_losses(train_losses, test_losses):\n",
    "    plt.plot(train_losses, label='Train')\n",
    "    plt.plot(test_losses, label='Test')\n",
    "    plt.legend(frameon=False)"
   ]
  },
  {
   "cell_type": "code",
   "execution_count": 11,
   "metadata": {},
   "outputs": [
    {
     "name": "stdout",
     "output_type": "stream",
     "text": [
      "Epoch: 0        Train_Loss: 0.60        Test_Loss: 0.47        Test_Accuracy 83.03\n",
      "Epoch: 1        Train_Loss: 0.49        Test_Loss: 0.45        Test_Accuracy 83.93\n",
      "Epoch: 2        Train_Loss: 0.45        Test_Loss: 0.41        Test_Accuracy 85.19\n",
      "Epoch: 3        Train_Loss: 0.43        Test_Loss: 0.43        Test_Accuracy 84.44\n",
      "Epoch: 4        Train_Loss: 0.42        Test_Loss: 0.41        Test_Accuracy 85.23\n",
      "Epoch: 5        Train_Loss: 0.42        Test_Loss: 0.40        Test_Accuracy 85.90\n",
      "Epoch: 6        Train_Loss: 0.41        Test_Loss: 0.39        Test_Accuracy 86.17\n",
      "Epoch: 7        Train_Loss: 0.40        Test_Loss: 0.38        Test_Accuracy 86.66\n",
      "Epoch: 8        Train_Loss: 0.39        Test_Loss: 0.40        Test_Accuracy 86.17\n",
      "Epoch: 9        Train_Loss: 0.38        Test_Loss: 0.41        Test_Accuracy 85.69\n",
      "Epoch: 10        Train_Loss: 0.39        Test_Loss: 0.39        Test_Accuracy 86.38\n",
      "Epoch: 11        Train_Loss: 0.38        Test_Loss: 0.37        Test_Accuracy 87.09\n",
      "Epoch: 12        Train_Loss: 0.38        Test_Loss: 0.38        Test_Accuracy 86.95\n",
      "Epoch: 13        Train_Loss: 0.38        Test_Loss: 0.37        Test_Accuracy 87.22\n",
      "Epoch: 14        Train_Loss: 0.38        Test_Loss: 0.39        Test_Accuracy 86.64\n",
      "Epoch: 15        Train_Loss: 0.37        Test_Loss: 0.40        Test_Accuracy 86.80\n",
      "Epoch: 16        Train_Loss: 0.37        Test_Loss: 0.38        Test_Accuracy 86.74\n",
      "Epoch: 17        Train_Loss: 0.36        Test_Loss: 0.37        Test_Accuracy 87.07\n",
      "Epoch: 18        Train_Loss: 0.36        Test_Loss: 0.38        Test_Accuracy 86.38\n",
      "Epoch: 19        Train_Loss: 0.37        Test_Loss: 0.37        Test_Accuracy 86.93\n"
     ]
    },
    {
     "data": {
      "image/png": "[encoded data removed]",
      "text/plain": [
       "<Figure size 432x288 with 1 Axes>"
      ]
     },
     "metadata": {
      "needs_background": "light"
     },
     "output_type": "display_data"
    }
   ],
   "source": [
    "epochs = 20\n",
    "model = Classifier()\n",
    "criterion = nn.NLLLoss()\n",
    "optimizer = optim.Adam(model.parameters(), lr=0.003)\n",
    "\n",
    "# model training\n",
    "train_losses, test_losses = train(model, criterion, optimizer, trainloader, testloader, epochs)\n",
    "\n",
    "# plot the losses \n",
    "plot_losses(train_losses, test_losses)"
   ]
  },
  {
   "cell_type": "markdown",
   "metadata": {},
   "source": [
    "### Testing"
   ]
  },
  {
   "cell_type": "code",
   "execution_count": 12,
   "metadata": {},
   "outputs": [],
   "source": [
    "# testing functions\n",
    "def view_classify(img, ps, version=\"MNIST\"):\n",
    "    ''' Function for viewing an image and it's predicted classes.\n",
    "    '''\n",
    "    ps = ps.data.numpy().squeeze()\n",
    "\n",
    "    fig, (ax1, ax2) = plt.subplots(figsize=(6,9), ncols=2)\n",
    "    ax1.imshow(img.resize_(1, 28, 28).numpy().squeeze())\n",
    "    ax1.axis('off')\n",
    "    ax2.barh(np.arange(10), ps)\n",
    "    ax2.set_aspect(0.1)\n",
    "    ax2.set_yticks(np.arange(10))\n",
    "    if version == \"MNIST\":\n",
    "        ax2.set_yticklabels(np.arange(10))\n",
    "    elif version == \"Fashion\":\n",
    "        ax2.set_yticklabels(['T-shirt/top',\n",
    "                            'Trouser',\n",
    "                            'Pullover',\n",
    "                            'Dress',\n",
    "                            'Coat',\n",
    "                            'Sandal',\n",
    "                            'Shirt',\n",
    "                            'Sneaker',\n",
    "                            'Bag',\n",
    "                            'Ankle Boot'], size='small');\n",
    "    ax2.set_title('Class Probability')\n",
    "    ax2.set_xlim(0, 1.1)\n",
    "\n",
    "    plt.tight_layout()"
   ]
  },
  {
   "cell_type": "code",
   "execution_count": 13,
   "metadata": {},
   "outputs": [
    {
     "data": {
      "image/png": "[encoded data removed]",
      "text/plain": [
       "<Figure size 432x648 with 2 Axes>"
      ]
     },
     "metadata": {
      "needs_background": "light"
     },
     "output_type": "display_data"
    }
   ],
   "source": [
    "images, labels = next(iter(testloader))\n",
    "img = images[0]\n",
    "\n",
    "with torch.no_grad(): # turn off gradients\n",
    "    model.eval() # turn off drop_out\n",
    "    ps = torch.exp(model(img))\n",
    "\n",
    "view_classify(img, ps, version='Fashion')"
   ]
  }
 ],
 "metadata": {
  "kernelspec": {
   "display_name": "Python 3",
   "language": "python",
   "name": "python3"
  },
  "language_info": {
   "codemirror_mode": {
    "name": "ipython",
    "version": 3
   },
   "file_extension": ".py",
   "mimetype": "text/x-python",
   "name": "python",
   "nbconvert_exporter": "python",
   "pygments_lexer": "ipython3",
   "version": "3.7.3"
  }
 },
 "nbformat": 4,
 "nbformat_minor": 1
}
