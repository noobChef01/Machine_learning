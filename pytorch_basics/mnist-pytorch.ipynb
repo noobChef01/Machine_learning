{
 "cells": [
  {
   "cell_type": "markdown",
   "metadata": {
    "_cell_guid": "b1076dfc-b9ad-4769-8c92-a6c4dae69d19",
    "_uuid": "8f2839f25d086af736a60e9eeb907d3b93b6e0e5"
   },
   "source": [
    "Now we will use Pytorch's nn module to build neural networks which has lot of classes, functions and methods that help us build large Neural Networks in a more efficient way. We will also use the torchvision package that comes with pytorch, it a utilities package for vision related problems (contains models, datasets, etc)"
   ]
  },
  {
   "cell_type": "markdown",
   "metadata": {},
   "source": [
    "Image representation in computers:\n",
    "----------------------------------\n",
    "To tackle the problem of image representation in screen the images need to converted/broken down to Data. The Data being RGB triplets of varyi\n",
    "Pixels are Tiny dots of light on a screen, that in turn are made of three colors of tinier dots of light of color Red, Blue and Green.\n",
    "Each pixels in computers is represented by such RGB triplets of varying intensity. Higher the intensity lighter the color and vice-versa.\n",
    "For the RGB triplets, each color representation is saved as a decimal value ranging from 0-255. Why? because the data is stored in the from of bits (0 or 1/ on or off), 8 Bits to be exact that's why the 255 is the range, as computers understand only 1 or 0. This is stored in a file as byte triplets or for easier representation as hex code (shorter representaion). For grayscale the number of channels is just one. RGB Primary colors in-case of screen display system. \n",
    "\n",
    "The theory behind additive color mixing is governed by Grassmans law. It doesn't specify what promary colors or how many you need. \n",
    "In fact you can build using any color and number. The range of colors produced is called the color gamut. RGB has the largest color gamut that's why it is preferred. Not all colors detectable by the human eye can be produced by RGB. \n",
    "\n",
    "Two terms to know:\n",
    "\n",
    "Resolution: Refers to the number of pixels horizzontally and vertically on a screen\n",
    "and another new feature is the density (smaller screen can have the same number of pixels) "
   ]
  },
  {
   "cell_type": "markdown",
   "metadata": {},
   "source": [
    "### MNIST"
   ]
  },
  {
   "cell_type": "markdown",
   "metadata": {},
   "source": [
    "Deep learning networks tend to be massive with dozens or hundreds of layers, that's where the term \"deep\" comes from. You can build one of these deep networks using only weight matrices as we did in the previous notebook, but in general it's very cumbersome and difficult to implement. PyTorch has a nice module nn that provides a nice way to efficiently build large neural networks."
   ]
  },
  {
   "cell_type": "code",
   "execution_count": 1,
   "metadata": {},
   "outputs": [],
   "source": [
    "# Import necessary packages\n",
    "import numpy as np\n",
    "import torch\n",
    "#import helper\n",
    "import matplotlib.pyplot as plt\n",
    "\n",
    "%matplotlib inline\n",
    "%config InlineBackend.figure_format = 'retina'"
   ]
  },
  {
   "cell_type": "markdown",
   "metadata": {},
   "source": [
    "Now we're going to build a larger network that can solve a (formerly) difficult problem, identifying text in an image. Here we'll use the MNIST dataset which consists of greyscale handwritten digits. Each image is 28x28 pixels.\n",
    "\n",
    "Our goal is to build a neural network that can take one of these images and predict the digit in the image.\n",
    "\n",
    "First up, we need to get our dataset. This is provided through the torchvision package. The code below will download the MNIST dataset, then create training and test datasets for us. Don't worry too much about the details here, you'll learn more about this later."
   ]
  },
  {
   "cell_type": "code",
   "execution_count": 2,
   "metadata": {},
   "outputs": [
    {
     "name": "stderr",
     "output_type": "stream",
     "text": [
      "0it [00:00, ?it/s]"
     ]
    },
    {
     "name": "stdout",
     "output_type": "stream",
     "text": [
      "Downloading http://yann.lecun.com/exdb/mnist/train-images-idx3-ubyte.gz to MNIST_data/MNIST/raw/train-images-idx3-ubyte.gz\n"
     ]
    },
    {
     "name": "stderr",
     "output_type": "stream",
     "text": [
      "9920512it [00:01, 9449276.45it/s]                            \n"
     ]
    },
    {
     "name": "stdout",
     "output_type": "stream",
     "text": [
      "Extracting MNIST_data/MNIST/raw/train-images-idx3-ubyte.gz\n"
     ]
    },
    {
     "name": "stderr",
     "output_type": "stream",
     "text": [
      "0it [00:00, ?it/s]"
     ]
    },
    {
     "name": "stdout",
     "output_type": "stream",
     "text": [
      "Downloading http://yann.lecun.com/exdb/mnist/train-labels-idx1-ubyte.gz to MNIST_data/MNIST/raw/train-labels-idx1-ubyte.gz\n"
     ]
    },
    {
     "name": "stderr",
     "output_type": "stream",
     "text": [
      "32768it [00:00, 103438.28it/s]           \n",
      "0it [00:00, ?it/s]"
     ]
    },
    {
     "name": "stdout",
     "output_type": "stream",
     "text": [
      "Extracting MNIST_data/MNIST/raw/train-labels-idx1-ubyte.gz\n",
      "Downloading http://yann.lecun.com/exdb/mnist/t10k-images-idx3-ubyte.gz to MNIST_data/MNIST/raw/t10k-images-idx3-ubyte.gz\n"
     ]
    },
    {
     "name": "stderr",
     "output_type": "stream",
     "text": [
      "1654784it [00:00, 2145242.83it/s]                           \n",
      "0it [00:00, ?it/s]"
     ]
    },
    {
     "name": "stdout",
     "output_type": "stream",
     "text": [
      "Extracting MNIST_data/MNIST/raw/t10k-images-idx3-ubyte.gz\n",
      "Downloading http://yann.lecun.com/exdb/mnist/t10k-labels-idx1-ubyte.gz to MNIST_data/MNIST/raw/t10k-labels-idx1-ubyte.gz\n"
     ]
    },
    {
     "name": "stderr",
     "output_type": "stream",
     "text": [
      "8192it [00:00, 35224.46it/s]            "
     ]
    },
    {
     "name": "stdout",
     "output_type": "stream",
     "text": [
      "Extracting MNIST_data/MNIST/raw/t10k-labels-idx1-ubyte.gz\n",
      "Processing...\n",
      "Done!\n"
     ]
    },
    {
     "name": "stderr",
     "output_type": "stream",
     "text": [
      "\n"
     ]
    }
   ],
   "source": [
    "# this package provides tools and datasets for vision realted problems\n",
    "from torchvision import datasets, transforms\n",
    "\n",
    "# Define a transform to normalize the data\n",
    "transform = transforms.Compose([transforms.ToTensor(),\n",
    "                              transforms.Normalize((0.5,), (0.5,)),\n",
    "                              ])\n",
    "# Download and load the training data\n",
    "trainset = datasets.MNIST('MNIST_data/', download=True, train=True, transform=transform) \n",
    "trainloader = torch.utils.data.DataLoader(trainset, batch_size=64, shuffle=True)"
   ]
  },
  {
   "cell_type": "markdown",
   "metadata": {},
   "source": [
    "We have the training data loaded into trainloader and we make that an iterator with iter(trainloader). Later, we'll use this to loop through the dataset for training, like\n",
    "\n",
    "for image, label in trainloader:\n",
    "    #do things with images and labels\n",
    "\n",
    "You'll notice I created the trainloader with a batch size of 64, and shuffle=True. The batch size is the number of images we get in one iteration from the data loader and pass through our network, often called a batch. And shuffle=True tells it to shuffle the dataset every time we start going through the data loader again. But here I'm just grabbing the first batch so we can check out the data. We can see below that images is just a tensor with size (64, 1, 28, 28). So, 64 images per batch, 1 color channel, and 28x28 images.\n",
    "\n",
    "Here dataloader is a generator"
   ]
  },
  {
   "cell_type": "code",
   "execution_count": 3,
   "metadata": {},
   "outputs": [
    {
     "name": "stdout",
     "output_type": "stream",
     "text": [
      "<class 'torch.Tensor'>\n",
      "torch.Size([64, 1, 28, 28])\n",
      "torch.Size([64])\n"
     ]
    }
   ],
   "source": [
    "dataiter = iter(trainloader)\n",
    "images, labels = dataiter.next()\n",
    "print(type(images))\n",
    "print(images.shape)\n",
    "print(labels.shape)"
   ]
  },
  {
   "cell_type": "markdown",
   "metadata": {},
   "source": [
    "np.squeeze: remove single dimensional entries from the shape of an array"
   ]
  },
  {
   "cell_type": "code",
   "execution_count": 4,
   "metadata": {},
   "outputs": [
    {
     "data": {
      "text/plain": [
       "<matplotlib.image.AxesImage at 0x7fd8b8524358>"
      ]
     },
     "execution_count": 4,
     "metadata": {},
     "output_type": "execute_result"
    },
    {
     "data": {
      "image/png": "[encoded data removed]",
      "text/plain": [
       "<Figure size 432x288 with 1 Axes>"
      ]
     },
     "metadata": {
      "image/png": {
       "height": 250,
       "width": 253
      },
      "needs_background": "light"
     },
     "output_type": "display_data"
    }
   ],
   "source": [
    "# matplot function sto show and image from numpy array\n",
    "plt.imshow(images[5].numpy().squeeze(), cmap='Greys_r')"
   ]
  },
  {
   "cell_type": "markdown",
   "metadata": {},
   "source": [
    "First, let's try to build a simple network for this dataset using weight matrices and matrix multiplications. Then, we'll see how to do it using PyTorch's nn module which provides a much more convenient and powerful method for defining network architectures.\n",
    "\n",
    "The networks you've seen so far are called fully-connected or dense networks. Each unit in one layer is connected to each unit in the next layer. In fully-connected networks, the input to each layer must be a one-dimensional vector (one for each element of the vector)(which can be stacked into a 2D tensor as a batch of multiple examples). However, our images are 28x28 2D tensors, so we need to convert them into 1D vectors. Thinking about sizes, we need to convert the batch of images with shape (64, 1, 28, 28) to a have a shape of (64, 784), 784 is 28 times 28. This is typically called flattening, we flattened the 2D images into 1D vectors.\n",
    "\n",
    "Previously you built a network with one output unit. Here we need 10 output units, one for each digit. We want our network to predict the digit shown in an image, so what we'll do is calculate probabilities that the image is of any one digit or class. This ends up being a discrete probability distribution over the classes (digits) that tells us the most likely class for the image. That means we need 10 output units for the 10 classes (digits). We'll see how to convert the network output into a probability distribution next."
   ]
  },
  {
   "cell_type": "markdown",
   "metadata": {},
   "source": [
    "Exercise: Flatten the batch of images. Then build a multi-layer network with 784 input units, 256 hidden units, and 10 output units using random tensors for the weights and biases. For now, use a sigmoid activation for the hidden layer. Leave the output layer without an activation, we'll add one that gives us a probability distribution next."
   ]
  },
  {
   "cell_type": "code",
   "execution_count": 5,
   "metadata": {},
   "outputs": [],
   "source": [
    "# activation function\n",
    "def sigmoid(x):\n",
    "    return 1/(1+torch.exp(-x)) # torch tensor exp: retruns exp on all the tensor elements"
   ]
  },
  {
   "cell_type": "code",
   "execution_count": 6,
   "metadata": {},
   "outputs": [
    {
     "name": "stdout",
     "output_type": "stream",
     "text": [
      "torch.Size([64, 10])\n"
     ]
    }
   ],
   "source": [
    "# flatten the images\n",
    "inputs = images.view(64, -1)\n",
    "\n",
    "# define the #no of units in each layer\n",
    "n_input = inputs.shape[1]\n",
    "n_hidden = 256\n",
    "n_output = 10 \n",
    "\n",
    "## initialize weight matrices\n",
    "\n",
    "# input to hidden layer\n",
    "W1 = torch.randn(n_input, n_hidden) \n",
    "B1 = torch.rand(n_hidden)\n",
    "\n",
    "# hidden to output layer\n",
    "W2 = torch.randn(n_hidden, n_output) # hidden to output layer\n",
    "B2 = torch.rand(n_output)\n",
    "\n",
    "H = sigmoid(torch.mm(inputs, W1)+ B1)\n",
    "out = torch.mm(H, W2) + B2\n",
    "print(out.shape)"
   ]
  },
  {
   "cell_type": "markdown",
   "metadata": {},
   "source": [
    "Now we have 10 outputs for our network. We want to pass in an image to our network and get out a probability distribution over the classes that tells us the likely class(es) the image belongs to. Something that looks like this: <img src='assets/image_distribution.png' width=500px>\n",
    "\n",
    "Here we see that the probability for each class is roughly the same. This is representing an untrained network, it hasn't seen any data yet so it just returns a uniform distribution with equal probabilities for each class.\n",
    "\n",
    "To calculate this probability distribution, we often use the softmax function. Mathematically this looks like\n",
    "\n",
    "$$\n",
    "\\Large \\sigma(x_i) = \\cfrac{e^{x_i}}{\\sum_k^K{e^{x_k}}}\n",
    "$$"
   ]
  },
  {
   "cell_type": "markdown",
   "metadata": {},
   "source": [
    "What this does is squish each input $x_i$ between 0 and 1 and normalizes the values to give you a proper probability distribution where the probabilites sum up to one.\n",
    "\n",
    "Exercise: Implement a function softmax that performs the softmax calculation and returns probability distributions for each example in the batch. Note that you'll need to pay attention to the shapes when doing this. If you have a tensor a with shape (64, 10) and a tensor b with shape (64,), doing a/b will give you an error because PyTorch will try to do the division across the columns (called broadcasting) but you'll get a size mismatch. The way to think about this is for each of the 64 examples, you only want to divide by one value, the sum in the denominator. So you need b to have a shape of (64, 1). This way PyTorch will divide the 10 values in each row of a by the one value in each row of b. Pay attention to how you take the sum as well. You'll need to define the dim keyword in torch.sum. Setting dim=0 takes the sum across each column while dim=1 takes the sum across each row."
   ]
  },
  {
   "cell_type": "code",
   "execution_count": 7,
   "metadata": {},
   "outputs": [
    {
     "name": "stdout",
     "output_type": "stream",
     "text": [
      "torch.Size([64, 10])\n",
      "tensor([1.0000, 1.0000, 1.0000, 1.0000, 1.0000, 1.0000, 1.0000, 1.0000, 1.0000,\n",
      "        1.0000, 1.0000, 1.0000, 1.0000, 1.0000, 1.0000, 1.0000, 1.0000, 1.0000,\n",
      "        1.0000, 1.0000, 1.0000, 1.0000, 1.0000, 1.0000, 1.0000, 1.0000, 1.0000,\n",
      "        1.0000, 1.0000, 1.0000, 1.0000, 1.0000, 1.0000, 1.0000, 1.0000, 1.0000,\n",
      "        1.0000, 1.0000, 1.0000, 1.0000, 1.0000, 1.0000, 1.0000, 1.0000, 1.0000,\n",
      "        1.0000, 1.0000, 1.0000, 1.0000, 1.0000, 1.0000, 1.0000, 1.0000, 1.0000,\n",
      "        1.0000, 1.0000, 1.0000, 1.0000, 1.0000, 1.0000, 1.0000, 1.0000, 1.0000,\n",
      "        1.0000])\n"
     ]
    }
   ],
   "source": [
    "def softmax(x):\n",
    "    ## save the exp of the tensor, then divide the exps with row sum \n",
    "    x_exp = torch.exp(x)\n",
    "    return x_exp/torch.sum(x_exp, dim=1).view(-1, 1) # dim=1 sum across each row and dim=0 across each column\n",
    "\n",
    "# Here, out should be the output of the network in the previous excercise with shape (64,10)\n",
    "probabilities = softmax(out)\n",
    "\n",
    "# Does it have the right shape? Should be (64, 10)\n",
    "print(probabilities.shape)\n",
    "# Does it sum to 1?\n",
    "print(probabilities.sum(dim=1))"
   ]
  },
  {
   "cell_type": "code",
   "execution_count": 8,
   "metadata": {},
   "outputs": [
    {
     "data": {
      "image/png": "[encoded data removed]",
      "text/plain": [
       "<Figure size 432x288 with 1 Axes>"
      ]
     },
     "metadata": {
      "image/png": {
       "height": 250,
       "width": 372
      },
      "needs_background": "light"
     },
     "output_type": "display_data"
    }
   ],
   "source": [
    "x = np.linspace(0.1, 10)\n",
    "plt.plot(x, np.log(x), color='r')\n",
    "plt.show();"
   ]
  },
  {
   "cell_type": "markdown",
   "metadata": {},
   "source": [
    "Log function for non-postive values is not defined. From the graph it is clear that for input between 0 and 1 the base e log fucntion gives negative values. Hence for cross entropy the higher the prob input higher more neagtive the output else if very small value the output is more negative (unwanted). "
   ]
  },
  {
   "cell_type": "markdown",
   "metadata": {},
   "source": [
    "### Building networks with PyTorchBuilding networks with PyTorch\n",
    "PyTorch provides a module nn that makes building networks much simpler. Here I'll show you how to build the same one as above with 784 inputs, 256 hidden units, 10 output units and a softmax output."
   ]
  },
  {
   "cell_type": "markdown",
   "metadata": {},
   "source": [
    "Sigmoid function in pytorch is implemeted both as a module and a fucntion for historical reasons (based on old lua torch7) where you could use it in a Sequential Model"
   ]
  },
  {
   "cell_type": "code",
   "execution_count": 9,
   "metadata": {},
   "outputs": [],
   "source": [
    "from torch import nn"
   ]
  },
  {
   "cell_type": "code",
   "execution_count": 10,
   "metadata": {},
   "outputs": [],
   "source": [
    "class Network(nn.Module):\n",
    "    \n",
    "    def __init__(self, n_in, n_h, n_out):\n",
    "        # super() here refers to base class, call the Base class constructor (nn.Module)\n",
    "        # to register this class as a our model \n",
    "        super().__init__() \n",
    "        # input to hidden layer linear transformation of incoming data (XW+B)\n",
    "        self.i2h = nn.Linear(n_in, n_h) # create object: weight and bias are initialized automatically \n",
    "        # hidden to output layer linear tranforamtion of incoming data (XW+B)\n",
    "        self.h2o = nn.Linear(n_h, n_out) # create object: weight and bias are initialized automatically \n",
    "        # activations objects\n",
    "        self.sigmoid = nn.Sigmoid()\n",
    "        self.softmax = nn.Softmax(dim=1)\n",
    "        \n",
    "    def forward(self, x): \n",
    "        # here x is the input tensor, method autmatically called when model is run with data\n",
    "        h = self.sigmoid(self.i2h(x))\n",
    "        out = self.softmax(self.h2o(h))\n",
    "        return out"
   ]
  },
  {
   "cell_type": "markdown",
   "metadata": {},
   "source": [
    "Let's go through this bit by bit.\n",
    "\n",
    "`class Network(nn.Module):`\n",
    "Here we're inheriting from nn.Module. Combined with super().__init__() this creates a class that tracks the architecture and provides a lot of useful methods and attributes. It is mandatory to inherit from nn.Module when you're creating a class for your network. The name of the class itself can be anything.\n",
    "\n",
    "`self.hidden = nn.Linear(784, 256)`\n",
    "This line creates a module for a linear transformation, $x\\mathbf{W} + b$, with 784 inputs and 256 outputs and assigns it to self.hidden. The module automatically creates the weight and bias tensors which we'll use in the forward method. You can access the weight and bias tensors once the network (net) is created with net.hidden.weight and net.hidden.bias.\n",
    "\n",
    "`self.output = nn.Linear(256, 10)`\n",
    "Similarly, this creates another linear transformation with 256 inputs and 10 outputs.\n",
    "\n",
    "`self.sigmoid = nn.Sigmoid()\n",
    "self.softmax = nn.Softmax(dim=1)`\n",
    "\n",
    "Here I defined operations for the sigmoid activation and softmax output. Setting dim=1 in nn.Softmax(dim=1) calculates softmax across the columns.\n",
    "\n",
    "`def forward(self, x):`\n",
    "PyTorch networks created with nn.Module must have a forward method defined. It takes in a tensor x and passes it through the operations you defined in the __init__ method.\n",
    "\n",
    "`x = self.hidden(x)\n",
    " x = self.sigmoid(x)\n",
    " x = self.output(x)\n",
    " x = self.softmax(x)`\n",
    "\n",
    "Here the input tensor x is passed through each operation a reassigned to x. We can see that the input tensor goes through the hidden layer, then a sigmoid function, then the output layer, and finally the softmax function. It doesn't matter what you name the variables here, as long as the inputs and outputs of the operations match the network architecture you want to build. The order in which you define things in the __init__ method doesn't matter, but you'll need to sequence the operations correctly in the forward method.\n",
    "\n",
    "Now we can create a Network object."
   ]
  },
  {
   "cell_type": "code",
   "execution_count": 11,
   "metadata": {},
   "outputs": [],
   "source": [
    "# hyperparms:\n",
    "n_in = inputs.shape[1]\n",
    "n_h = 256\n",
    "n_out = 10 "
   ]
  },
  {
   "cell_type": "code",
   "execution_count": 12,
   "metadata": {},
   "outputs": [
    {
     "name": "stdout",
     "output_type": "stream",
     "text": [
      "Network(\n",
      "  (i2h): Linear(in_features=784, out_features=256, bias=True)\n",
      "  (h2o): Linear(in_features=256, out_features=10, bias=True)\n",
      "  (sigmoid): Sigmoid()\n",
      "  (softmax): Softmax()\n",
      ")\n",
      "Parameter containing:\n",
      "tensor([[ 0.0042,  0.0347, -0.0253,  ..., -0.0324, -0.0337,  0.0023],\n",
      "        [-0.0148, -0.0084, -0.0181,  ...,  0.0096, -0.0100,  0.0003],\n",
      "        [ 0.0076,  0.0289, -0.0290,  ...,  0.0148,  0.0014,  0.0136],\n",
      "        ...,\n",
      "        [ 0.0045,  0.0245, -0.0080,  ..., -0.0166, -0.0139, -0.0174],\n",
      "        [ 0.0344, -0.0102, -0.0352,  ..., -0.0152,  0.0186,  0.0139],\n",
      "        [-0.0340,  0.0038,  0.0061,  ..., -0.0148,  0.0356, -0.0056]],\n",
      "       requires_grad=True)\n",
      "Parameter containing:\n",
      "tensor([-0.0109, -0.0131, -0.0050, -0.0353,  0.0242,  0.0538, -0.0519, -0.0516,\n",
      "         0.0392,  0.0544], requires_grad=True)\n"
     ]
    }
   ],
   "source": [
    "# create the model object\n",
    "model = Network(n_in, n_h, n_out)\n",
    "print(model) # this shows the layers of our model\n",
    "\n",
    "# to check the weights and bias (select the layer)\n",
    "print(model.i2h.weight)\n",
    "print(model.h2o.bias)"
   ]
  },
  {
   "cell_type": "markdown",
   "metadata": {},
   "source": [
    "We can write this architecture in a more concise and readable format using torch.nn.functional module, preferred as most opeartions are element wise operations. We normally import this module as F, import torch.nn.functional as F. "
   ]
  },
  {
   "cell_type": "code",
   "execution_count": 13,
   "metadata": {},
   "outputs": [],
   "source": [
    "import torch.nn.functional as F"
   ]
  },
  {
   "cell_type": "code",
   "execution_count": 14,
   "metadata": {},
   "outputs": [],
   "source": [
    "class Network(nn.Module):\n",
    "    \n",
    "    def __init__(self, n_in, n_h, n_out):\n",
    "        super().__init__() \n",
    "        # input to hidden layer linear transformation of incoming data (XW+B)\n",
    "        self.i2h = nn.Linear(n_in, n_h) \n",
    "        # hidden to output layer linear tranforamtion of incoming data (XW+B)\n",
    "        self.h2o = nn.Linear(n_h, n_out)\n",
    "        \n",
    "    def forward(self, x):\n",
    "        h = F.sigmoid(self.i2h(x))\n",
    "        out = F.softmax(self.h2o(h), dim=1)\n",
    "        return out"
   ]
  },
  {
   "cell_type": "markdown",
   "metadata": {},
   "source": [
    "## Activation functions\n",
    "So far we've only been looking at the sigmoid activation function, but in general any function can be used as an activation function. The only requirement is that for a network to approximate a non-linear function, the activation functions must be non-linear. Here are a few more examples of common activation functions: Tanh (hyperbolic tangent), and ReLU (rectified linear unit).\n",
    "\n",
    "<img src=\"assets/activation.png\" width=700px>\n",
    "\n",
    "In practice, the ReLU function is used almost exclusively as the activation function for hidden layers.\n",
    "\n",
    "## Your Turn to Build a Network\n",
    "<img src=\"assets/mlp_mnist.png\" width=600px>\n",
    "\n",
    "Exercise: Create a network with 784 input units, a hidden layer with 128 units and a ReLU activation, then a hidden layer with 64 units and a ReLU activation, and finally an output layer with a softmax activation as shown above. You can use a ReLU activation with the nn.ReLU module or F.relu function.\n",
    "\n",
    "It's good practice to name your layers by their type of network, for instance 'fc' to represent a fully-connected layer. As you code your solution, use fc1, fc2, and fc3 as your layer names."
   ]
  },
  {
   "cell_type": "code",
   "execution_count": 15,
   "metadata": {},
   "outputs": [],
   "source": [
    "class Network(nn.Module):\n",
    "    \n",
    "    def __init__(self, n_in, n_h1, n_h2,n_out):\n",
    "        super().__init__()\n",
    "        self.l_in = nn.Linear(n_in, n_h1)\n",
    "        self.l_h1 = nn.Linear(n_h1, n_h2)\n",
    "        self.l_h2 = nn.Linear(n_h2, n_out)\n",
    "        \n",
    "    def forward(self, x):\n",
    "        x = F.relu(self.l_in(x))\n",
    "        x = F.relu(self.l_h1(x))\n",
    "        x = self.l_h2(x)\n",
    "        return F.softmax(x, dim=1)\n",
    "\n",
    "n_in, n_h1, n_h2,n_out = (784, 128, 64, 10) \n",
    "model = Network(n_in, n_h1, n_h2,n_out)"
   ]
  },
  {
   "cell_type": "code",
   "execution_count": 16,
   "metadata": {},
   "outputs": [
    {
     "name": "stdout",
     "output_type": "stream",
     "text": [
      "Network(\n",
      "  (l_in): Linear(in_features=784, out_features=128, bias=True)\n",
      "  (l_h1): Linear(in_features=128, out_features=64, bias=True)\n",
      "  (l_h2): Linear(in_features=64, out_features=10, bias=True)\n",
      ")\n"
     ]
    }
   ],
   "source": [
    "# dsiplay the module layers defined for the model \n",
    "print(model)"
   ]
  },
  {
   "cell_type": "markdown",
   "metadata": {},
   "source": [
    "## Initializing weights and biases\n",
    "The weights and such are automatically initialized for you, but it's possible to customize how they are initialized. The weights and biases are tensors attached to the layer you defined, you can get them with model.fc1.weight for instance."
   ]
  },
  {
   "cell_type": "code",
   "execution_count": 17,
   "metadata": {},
   "outputs": [
    {
     "name": "stdout",
     "output_type": "stream",
     "text": [
      "Parameter containing:\n",
      "tensor([[-6.6897e-03,  1.1632e-02, -2.0753e-03,  ..., -2.6701e-04,\n",
      "         -2.8702e-02,  1.0052e-03],\n",
      "        [ 2.2251e-02, -1.0673e-02,  2.8560e-02,  ...,  3.5141e-02,\n",
      "          2.0982e-02,  3.3515e-02],\n",
      "        [-6.0767e-05, -2.5685e-02,  2.6583e-02,  ..., -3.0711e-02,\n",
      "         -1.0225e-02, -8.7366e-03],\n",
      "        ...,\n",
      "        [ 1.9360e-02, -1.0326e-03,  6.6005e-03,  ..., -2.5970e-02,\n",
      "         -2.5118e-02,  1.2948e-02],\n",
      "        [-3.4316e-02, -1.0443e-04, -1.5001e-02,  ..., -3.3174e-02,\n",
      "          1.2399e-02,  2.2944e-02],\n",
      "        [-1.1074e-02, -2.7571e-02,  5.9909e-03,  ...,  3.3606e-02,\n",
      "          2.7295e-02, -1.0138e-03]], requires_grad=True)\n",
      "Parameter containing:\n",
      "tensor([ 2.5868e-03, -2.4159e-02, -1.8564e-02,  3.0726e-02, -4.9099e-06,\n",
      "         8.6027e-03, -1.7182e-02, -3.6637e-03, -3.9858e-03,  3.3719e-03,\n",
      "         6.3337e-03, -1.7194e-02,  2.4030e-02, -8.7741e-03, -3.4937e-02,\n",
      "        -9.7067e-03,  2.2962e-02,  6.7246e-04, -3.1161e-02,  3.1124e-02,\n",
      "        -2.9971e-02, -2.2248e-02, -4.5800e-03,  1.3192e-02,  2.2802e-02,\n",
      "         2.4411e-02, -2.9359e-02, -3.0870e-02, -1.8470e-02, -3.2097e-02,\n",
      "         2.3321e-02,  2.5946e-02,  2.7770e-02, -4.5972e-04,  3.3170e-02,\n",
      "         8.0766e-03, -3.1559e-02,  8.7890e-04, -8.3162e-03,  1.7305e-02,\n",
      "        -2.4747e-02, -1.0490e-03,  4.4373e-04, -1.6684e-02,  3.5642e-02,\n",
      "        -2.7632e-02,  3.1578e-02,  1.0079e-02, -2.8814e-02, -2.5324e-02,\n",
      "        -1.6943e-02, -2.2625e-02, -3.0139e-02, -2.3811e-03, -3.4520e-02,\n",
      "        -2.7144e-02, -2.7223e-02, -7.9312e-03, -2.1206e-02,  2.0366e-02,\n",
      "        -3.0209e-02,  2.5138e-03, -1.4592e-02,  2.0778e-02, -1.3752e-02,\n",
      "         2.9339e-02, -1.1160e-02, -2.6275e-02,  2.8241e-02,  2.3118e-02,\n",
      "         1.9768e-02,  3.5489e-02, -2.0120e-02, -9.8260e-03,  8.0153e-04,\n",
      "         2.3182e-02, -4.3702e-04, -3.1865e-02, -5.5982e-03, -1.8856e-02,\n",
      "         2.7669e-02,  1.5650e-02,  2.1188e-02,  2.4614e-02, -1.6862e-02,\n",
      "        -2.3200e-02,  1.7218e-02, -3.0365e-02, -3.4165e-02, -2.8532e-02,\n",
      "        -1.4471e-02, -5.4000e-03,  5.9223e-03, -2.7402e-02, -3.4202e-03,\n",
      "        -5.1610e-03, -4.7733e-03, -3.4187e-02,  1.0486e-02, -2.1189e-02,\n",
      "        -2.5745e-02, -6.4208e-03, -8.8918e-03,  2.0963e-02,  1.4126e-02,\n",
      "        -1.1518e-02,  2.9394e-02, -1.3421e-02, -5.3840e-03, -2.1645e-02,\n",
      "         2.5578e-02, -2.6265e-02,  2.9719e-02,  3.0461e-02,  1.8145e-02,\n",
      "        -1.7672e-02, -2.3611e-02,  2.8385e-02,  3.0641e-02, -1.3406e-02,\n",
      "         3.3081e-02,  1.4239e-02, -3.2189e-02,  2.0150e-03,  1.5990e-02,\n",
      "         1.7932e-02, -1.6879e-02, -9.3916e-04], requires_grad=True)\n"
     ]
    }
   ],
   "source": [
    "# display the weight and bias after selecting a layer\n",
    "print(model.l_in.weight)\n",
    "print(model.l_in.bias)"
   ]
  },
  {
   "cell_type": "markdown",
   "metadata": {},
   "source": [
    "For custom weight initialization, we need to change the tensors in place ( _ ). The weights and bias are actually autograd Variables and need to get the data by using model.weight.data. After getting the tensors we can fill them with 0s or from random normal distribution."
   ]
  },
  {
   "cell_type": "code",
   "execution_count": 18,
   "metadata": {},
   "outputs": [
    {
     "name": "stdout",
     "output_type": "stream",
     "text": [
      "tensor([0., 0., 0., 0., 0., 0., 0., 0., 0., 0., 0., 0., 0., 0., 0., 0., 0., 0., 0., 0., 0., 0., 0., 0.,\n",
      "        0., 0., 0., 0., 0., 0., 0., 0., 0., 0., 0., 0., 0., 0., 0., 0., 0., 0., 0., 0., 0., 0., 0., 0.,\n",
      "        0., 0., 0., 0., 0., 0., 0., 0., 0., 0., 0., 0., 0., 0., 0., 0., 0., 0., 0., 0., 0., 0., 0., 0.,\n",
      "        0., 0., 0., 0., 0., 0., 0., 0., 0., 0., 0., 0., 0., 0., 0., 0., 0., 0., 0., 0., 0., 0., 0., 0.,\n",
      "        0., 0., 0., 0., 0., 0., 0., 0., 0., 0., 0., 0., 0., 0., 0., 0., 0., 0., 0., 0., 0., 0., 0., 0.,\n",
      "        0., 0., 0., 0., 0., 0., 0., 0.])\n",
      "tensor([[ 0.0046,  0.0064,  0.0132,  ..., -0.0119,  0.0044,  0.0007],\n",
      "        [ 0.0025, -0.0177,  0.0015,  ..., -0.0080,  0.0116, -0.0191],\n",
      "        [ 0.0111,  0.0108,  0.0150,  ...,  0.0056,  0.0004,  0.0015],\n",
      "        ...,\n",
      "        [ 0.0057, -0.0136,  0.0011,  ..., -0.0016, -0.0016,  0.0091],\n",
      "        [ 0.0161,  0.0041,  0.0237,  ...,  0.0070, -0.0096, -0.0003],\n",
      "        [ 0.0120,  0.0009,  0.0009,  ..., -0.0053,  0.0033, -0.0075]])\n"
     ]
    }
   ],
   "source": [
    "# fill bias with zeros, modify in-place\n",
    "# get the actual tensors from the autograd variable, detach the autograd from it\n",
    "print(model.l_in.bias.data.fill_(0))\n",
    "# fill weight with random noram values\n",
    "print(model.l_in.weight.data.normal_(std=0.01)) "
   ]
  },
  {
   "cell_type": "markdown",
   "metadata": {},
   "source": [
    "## Forward Pass"
   ]
  },
  {
   "cell_type": "code",
   "execution_count": 19,
   "metadata": {},
   "outputs": [],
   "source": [
    "def view_classify(img, ps, version=\"MNIST\"):\n",
    "    ''' Function for viewing an image and it's predicted classes.\n",
    "    '''\n",
    "    ps = ps.data.numpy().squeeze()\n",
    "\n",
    "    fig, (ax1, ax2) = plt.subplots(figsize=(6,9), ncols=2)\n",
    "    ax1.imshow(img.resize_(1, 28, 28).numpy().squeeze())\n",
    "    ax1.axis('off')\n",
    "    ax2.barh(np.arange(10), ps)\n",
    "    ax2.set_aspect(0.1)\n",
    "    ax2.set_yticks(np.arange(10))\n",
    "    if version == \"MNIST\":\n",
    "        ax2.set_yticklabels(np.arange(10))\n",
    "    elif version == \"Fashion\":\n",
    "        ax2.set_yticklabels(['T-shirt/top',\n",
    "                            'Trouser',\n",
    "                            'Pullover',\n",
    "                            'Dress',\n",
    "                            'Coat',\n",
    "                            'Sandal',\n",
    "                            'Shirt',\n",
    "                            'Sneaker',\n",
    "                            'Bag',\n",
    "                            'Ankle Boot'], size='small');\n",
    "    ax2.set_title('Class Probability')\n",
    "    ax2.set_xlim(0, 1.1)\n",
    "\n",
    "    plt.tight_layout()"
   ]
  },
  {
   "cell_type": "code",
   "execution_count": 20,
   "metadata": {},
   "outputs": [
    {
     "name": "stdout",
     "output_type": "stream",
     "text": [
      "tensor([[0.1106, 0.0947, 0.1105, 0.1019, 0.0927, 0.0881, 0.0974, 0.0965, 0.1018,\n",
      "         0.1058]], grad_fn=<SoftmaxBackward>)\n"
     ]
    },
    {
     "data": {
      "image/png": "[encoded data removed]",
      "text/plain": [
       "<Figure size 432x288 with 1 Axes>"
      ]
     },
     "metadata": {
      "image/png": {
       "height": 250,
       "width": 253
      },
      "needs_background": "light"
     },
     "output_type": "display_data"
    },
    {
     "data": {
      "image/png": "[encoded data removed]",
      "text/plain": [
       "<Figure size 432x648 with 2 Axes>"
      ]
     },
     "metadata": {
      "image/png": {
       "height": 226,
       "width": 423
      },
      "needs_background": "light"
     },
     "output_type": "display_data"
    }
   ],
   "source": [
    "# let's pass an image through the network\n",
    "data_iter = iter(trainloader) # turn the dataloader object into iter(generator)\n",
    "images, labels = dataiter.next()\n",
    "\n",
    "# image number\n",
    "img_idx = 2\n",
    "in_image = images[img_idx]\n",
    "plt.imshow(in_image.numpy().squeeze(), cmap='Greys_r')\n",
    "\n",
    "# resize the image to be passed through the network\n",
    "in_image.resize_(1, 784)\n",
    "# probabilities\n",
    "ps = model.forward(in_image)\n",
    "# since the model is not trained the distribution is more or less uniform\n",
    "print(ps)\n",
    "view_classify(in_image.view(1, 28, 28), ps)\n",
    "plt.show();"
   ]
  },
  {
   "cell_type": "markdown",
   "metadata": {},
   "source": [
    "## Using nn.Sequential\n",
    "\n",
    "Sequential is another convenient way to apply operations to our tensors and define our model. It is basically a container where the operations defined in a order are taken to be in that order of precedence. We can also pass and ordered dictionary of module operations and refer to them with thier name instead of using the index."
   ]
  },
  {
   "cell_type": "code",
   "execution_count": 21,
   "metadata": {},
   "outputs": [
    {
     "name": "stdout",
     "output_type": "stream",
     "text": [
      "tensor([[0.0793, 0.0906, 0.0802, 0.1004, 0.1311, 0.1116, 0.0760, 0.1250, 0.0990,\n",
      "         0.1069]], grad_fn=<SoftmaxBackward>)\n"
     ]
    },
    {
     "data": {
      "image/png": "[encoded data removed]",
      "text/plain": [
       "<Figure size 432x648 with 2 Axes>"
      ]
     },
     "metadata": {
      "image/png": {
       "height": 226,
       "width": 423
      },
      "needs_background": "light"
     },
     "output_type": "display_data"
    }
   ],
   "source": [
    "# hyper_params\n",
    "n_in, n_h1, n_h2, n_out = (784, 128, 64, 10)\n",
    "\n",
    "# deifne the model operations \n",
    "model = nn.Sequential(\n",
    "                      nn.Linear(n_in, n_h1),\n",
    "                      nn.ReLU(), \n",
    "                      nn.Linear(n_h1, n_h2),\n",
    "                      nn.ReLU(),\n",
    "                      nn.Linear(n_h2, n_out),\n",
    "                      nn.Softmax(dim=1)\n",
    "                     )\n",
    "\n",
    "ps = model.forward(in_image)\n",
    "# since the model is not trained the distribution is more or less uniform\n",
    "print(ps)\n",
    "view_classify(in_image.view(1, 28, 28), ps)\n",
    "plt.show();"
   ]
  },
  {
   "cell_type": "code",
   "execution_count": 22,
   "metadata": {},
   "outputs": [
    {
     "name": "stdout",
     "output_type": "stream",
     "text": [
      "torch.Size([128, 784])\n"
     ]
    }
   ],
   "source": [
    "# to acces a layer model use indexing\n",
    "print(model[0].weight.data.shape)"
   ]
  },
  {
   "cell_type": "code",
   "execution_count": 23,
   "metadata": {},
   "outputs": [],
   "source": [
    "# using ordered Dictionary\n",
    "from collections import OrderedDict\n"
   ]
  },
  {
   "cell_type": "code",
   "execution_count": 24,
   "metadata": {},
   "outputs": [
    {
     "name": "stdout",
     "output_type": "stream",
     "text": [
      "tensor([[0.1199, 0.1136, 0.0802, 0.0751, 0.1052, 0.1044, 0.1081, 0.0871, 0.1072,\n",
      "         0.0991]], grad_fn=<SoftmaxBackward>)\n"
     ]
    },
    {
     "data": {
      "image/png": "[encoded data removed]",
      "text/plain": [
       "<Figure size 432x648 with 2 Axes>"
      ]
     },
     "metadata": {
      "image/png": {
       "height": 226,
       "width": 423
      },
      "needs_background": "light"
     },
     "output_type": "display_data"
    }
   ],
   "source": [
    "# OrderedDict(): supply list of key-value tuples\n",
    "\n",
    "model = nn.Sequential(OrderedDict([\n",
    "                      ('fc1', nn.Linear(n_in, n_h1)),\n",
    "                      ('relu1', nn.ReLU()), \n",
    "                      ('fc2', nn.Linear(n_h1, n_h2)),\n",
    "                      ('relu2', nn.ReLU()),\n",
    "                      ('fc3', nn.Linear(n_h2, n_out)),\n",
    "                      ('softmax', nn.Softmax(dim=1))\n",
    "                    ]))\n",
    "\n",
    "ps = model.forward(in_image)\n",
    "# since the model is not trained the distribution is more or less uniform\n",
    "print(ps)\n",
    "view_classify(in_image.view(1, 28, 28), ps)\n",
    "plt.show();"
   ]
  },
  {
   "cell_type": "code",
   "execution_count": 25,
   "metadata": {},
   "outputs": [
    {
     "name": "stdout",
     "output_type": "stream",
     "text": [
      "tensor([[ 0.0328,  0.0253,  0.0167,  ..., -0.0033,  0.0330, -0.0222],\n",
      "        [-0.0322,  0.0306,  0.0092,  ...,  0.0262,  0.0091, -0.0266],\n",
      "        [ 0.0348,  0.0276,  0.0199,  ..., -0.0247,  0.0118,  0.0311],\n",
      "        ...,\n",
      "        [ 0.0046, -0.0115, -0.0221,  ..., -0.0045,  0.0094,  0.0233],\n",
      "        [-0.0308, -0.0351, -0.0051,  ..., -0.0101, -0.0298,  0.0070],\n",
      "        [-0.0018, -0.0074, -0.0084,  ..., -0.0349,  0.0234,  0.0081]])\n"
     ]
    }
   ],
   "source": [
    "# now we can access a layer with the key value\n",
    "print(model.fc1.weight.data)"
   ]
  }
 ],
 "metadata": {
  "kernelspec": {
   "display_name": "Python 3",
   "language": "python",
   "name": "python3"
  },
  "language_info": {
   "codemirror_mode": {
    "name": "ipython",
    "version": 3
   },
   "file_extension": ".py",
   "mimetype": "text/x-python",
   "name": "python",
   "nbconvert_exporter": "python",
   "pygments_lexer": "ipython3",
   "version": "3.7.3"
  }
 },
 "nbformat": 4,
 "nbformat_minor": 1
}
