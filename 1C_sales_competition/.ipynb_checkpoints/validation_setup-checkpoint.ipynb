{
 "cells": [
  {
   "cell_type": "code",
   "execution_count": 1,
   "metadata": {
    "_cell_guid": "79c7e3d0-c299-4dcb-8224-4455121ee9b0",
    "_uuid": "d629ff2d2480ee46fbb7e2d37f6b5fab8052498a"
   },
   "outputs": [],
   "source": [
    "import os\n",
    "import tqdm \n",
    "import sys\n",
    "import warnings\n",
    "import pandas as pd\n",
    "import numpy as np\n",
    "import seaborn as sns\n",
    "from tqdm import tqdm\n",
    "import matplotlib as mpl\n",
    "from cycler import cycler\n",
    "from matplotlib import rc\n",
    "import matplotlib.pyplot as plt\n",
    "\n",
    "# set default behaviour\n",
    "mpl.rcParams['axes.prop_cycle'] = cycler('color', ['#ff0000', '#0000ff',   '#00ffff','#ffA300', '#00ff00', \n",
    "     '#ff00ff', '#990000', '#009999', '#999900', '#009900', '#009999'])\n",
    "\n",
    "rc('font', size=16)\n",
    "rc('font',**{'family':'serif','serif':['Computer Modern']})\n",
    "rc('text', usetex=False)\n",
    "rc('figure', figsize=(12, 10))\n",
    "rc('axes', linewidth=.5)\n",
    "rc('lines', linewidth=1.75)\n",
    "sns.set_context('notebook')\n",
    "warnings.filterwarnings('ignore')"
   ]
  },
  {
   "cell_type": "code",
   "execution_count": 2,
   "metadata": {
    "_uuid": "622ac93fa4391a09d99b46600a39ab1c66442dec"
   },
   "outputs": [
    {
     "name": "stdout",
     "output_type": "stream",
     "text": [
      "Enabling notebook extension jupyter-js-widgets/extension...\r\n",
      "      - Validating: \u001b[32mOK\u001b[0m\r\n"
     ]
    }
   ],
   "source": [
    "!jupyter nbextension enable --py widgetsnbextension"
   ]
  },
  {
   "cell_type": "code",
   "execution_count": 3,
   "metadata": {
    "_uuid": "0cd21976ef22cd107a3b6108b411942c0876c582"
   },
   "outputs": [],
   "source": [
    "import gc\n",
    "from itertools import product\n",
    "from tqdm import tqdm_notebook"
   ]
  },
  {
   "cell_type": "code",
   "execution_count": 4,
   "metadata": {
    "_uuid": "0cf0a009f48fa0eb9d173ab616a44d771f2b95db"
   },
   "outputs": [],
   "source": [
    "# Always good to set a seed for reproducibility\n",
    "SEED = 7\n",
    "np.random.seed(SEED)"
   ]
  },
  {
   "cell_type": "code",
   "execution_count": 5,
   "metadata": {
    "_uuid": "14a222db4387011cf8b81278e0fac0afe222e7ed"
   },
   "outputs": [],
   "source": [
    "data_folder = \"data/formatted_data/\"\n",
    "sales = pd.read_pickle(data_folder+'train.pkl')\n",
    "test = pd.read_pickle(data_folder+'test.pkl')\n",
    "shops = pd.read_pickle(data_folder+'shops.pkl')\n",
    "items = pd.read_pickle(data_folder+'items.pkl')\n",
    "icats = pd.read_pickle(data_folder+'icats.pkl')\n",
    "hol = pd.read_pickle(data_folder+'hol.pkl')\n",
    "inflation = pd.read_pickle(data_folder+'inflation.pkl')"
   ]
  },
  {
   "cell_type": "code",
   "execution_count": 6,
   "metadata": {
    "_uuid": "1396fc302d74d6101b3f99cd5ee559ec506cce83"
   },
   "outputs": [],
   "source": [
    "import math\n",
    "def cube_root(x):\n",
    "    if x > 0:\n",
    "        return math.pow(x, float(1)/3)\n",
    "    elif x < 0:\n",
    "        return -math.pow(abs(x), float(1)/3)\n",
    "    else:\n",
    "        return 0"
   ]
  },
  {
   "cell_type": "code",
   "execution_count": 7,
   "metadata": {
    "_uuid": "dc2cd4f557d317b0a37f9bab63db88943fc54a1c"
   },
   "outputs": [],
   "source": [
    "def downcast_dtypes(df):\n",
    "    '''\n",
    "        Changes column types in the dataframe: \n",
    "                \n",
    "                `float64` type to `float32`\n",
    "                `int64`   type to `int32`\n",
    "    '''\n",
    "    \n",
    "    # Select columns to downcast\n",
    "    float_cols = [c for c in df if df[c].dtype == \"float64\"]\n",
    "    int_cols =   [c for c in df if df[c].dtype == \"int64\"]\n",
    "    \n",
    "    # Downcast\n",
    "    df[float_cols] = df[float_cols].astype(np.float32)\n",
    "    df[int_cols]   = df[int_cols].astype(np.int32)\n",
    "    \n",
    "    return df"
   ]
  },
  {
   "cell_type": "markdown",
   "metadata": {
    "_uuid": "acaaf8d23ec107304b57b34516cad31e3cd54797"
   },
   "source": [
    "### Data cleaning and feature generation"
   ]
  },
  {
   "cell_type": "code",
   "execution_count": 8,
   "metadata": {
    "_uuid": "9187a8de0a7ec1131643630706ac17047a3a5285"
   },
   "outputs": [],
   "source": [
    "# items never sold(ids)\n",
    "unsold_items = set(items.item_id.unique()) - set(sales.item_id.unique())\n",
    "\n",
    "# create item release month, last sale month and sale period\n",
    "items_timelines = sales.groupby('item_id', as_index=False)['date_block_num'].agg([np.min, np.max])\n",
    "items_timelines.columns = ['release_block', 'last_sale_block']\n",
    "items_timelines = pd.merge(items_timelines, items[['item_id', 'itc_id']], on='item_id', how='right').drop('itc_id', axis=1)\n",
    "items_timelines['sale_period'] = items_timelines.last_sale_block - items_timelines.release_block\n",
    "ids = set(test.item_id.unique()) - unsold_items\n",
    "sale_block = items_timelines.loc[items_timelines.item_id.isin(ids), 'last_sale_block']\n",
    "sale_period = items_timelines.loc[items_timelines.item_id.isin(ids), 'sale_period']\n",
    "items_timelines.loc[items_timelines.item_id.isin(ids), 'last_sale_block'] = sale_block + 1\n",
    "items_timelines.loc[items_timelines.item_id.isin(ids), 'sale_period'] = sale_period + 1\n",
    "items_timelines.loc[items_timelines.item_id.isin(unsold_items), 'last_sale_block'] = 34\n",
    "items_timelines = items_timelines.fillna(-999)"
   ]
  },
  {
   "cell_type": "code",
   "execution_count": 9,
   "metadata": {
    "_uuid": "b335a7725afca4470780ed48e6a2d7f2eeddf90a"
   },
   "outputs": [
    {
     "data": {
      "text/plain": [
       "14"
      ]
     },
     "execution_count": 9,
     "metadata": {},
     "output_type": "execute_result"
    }
   ],
   "source": [
    "del sale_block, sale_period, ids\n",
    "gc.collect()"
   ]
  },
  {
   "cell_type": "code",
   "execution_count": 10,
   "metadata": {
    "_uuid": "0ee2f74eae996e05282d7166269c50409aead406"
   },
   "outputs": [],
   "source": [
    "# correct the incorrect price for item \n",
    "sales.loc[sales.item_price < 0, 'item_price'] = 2499.00\n",
    "\n",
    "# drop sales below date_block_num 12, can't create lags for these\n",
    "sales = sales[sales.date_block_num > 11]\n",
    "\n",
    "# drop sales with price more than 59200.00 and item_cnt_day more than 624\n",
    "sales = sales[sales.item_price < 59201.00]\n",
    "sales = sales[sales.item_cnt_day < 625]\n",
    "\n",
    "# correct shop_id \n",
    "sales.loc[sales.shop_id == 11, 'shop_id'] = 10\n",
    "sales.loc[sales.shop_id == 40, 'shop_id'] = 39\n",
    "shops.drop([11,40], axis=0, inplace=True)\n",
    "\n",
    "# closed shop ids\n",
    "closed_shops = set(shops.shop_id.unique()) - set(test.shop_id.unique())\n",
    "# constant price items\n",
    "min_max_prices = sales.groupby('item_id')['item_price'].agg([np.min, np.max])\n",
    "price_diff = min_max_prices['amax'] - min_max_prices['amin']\n",
    "sales['price_cnst'] = sales['item_id'].map((price_diff == 0) * 1)\n",
    "\n",
    "# season feature\n",
    "winter_months = [12,1,2,3]\n",
    "summer_months = [6,7,8]\n",
    "spring_months = [4,5]\n",
    "autumn_months = [9,10,11]\n",
    "sales.loc[sales.month.isin(winter_months), 'season'] = 'winter'\n",
    "sales.loc[sales.month.isin(summer_months), 'season'] = 'summer'\n",
    "sales.loc[sales.month.isin(spring_months), 'season'] = 'spring'\n",
    "sales.loc[sales.month.isin(autumn_months), 'season'] = 'autumn'\n",
    "\n",
    "# revenue feature\n",
    "sales['revenue'] = sales.item_cnt_day * sales.item_price\n",
    "\n",
    "# prices ending with 9\n",
    "str_prices   = sales.item_price.astype(str)\n",
    "str_prices   = str_prices.apply(lambda x: x.split('.')[0])\n",
    "ends_with_9  = str_prices.apply(lambda x: x.endswith('9'))\n",
    "sales['end_with_9'] = ends_with_9 * 1\n",
    "\n",
    "# generate loaction of shops\n",
    "shops['location'] = shops.sname.apply(lambda x: x.split(' ')[0])\n",
    "shops.loc[[12,55], 'location'] = 'онлайн'\n",
    "shops.loc[[34,35], 'location'] = 'нижний новгород'\n",
    "shops.loc[[9], 'location']     = 'исходящая доставка'\n",
    "\n",
    "# make item returned feature\n",
    "returned_items = sales[sales.item_cnt_day < 0]['item_id'].unique()\n",
    "items['item_returned'] = items.item_id.isin(returned_items) * 1\n",
    "\n",
    "# make meta category for item_categories\n",
    "icats.loc[:7, 'meta_cat'] = 'accessories'\n",
    "icats.loc[[8,80], 'meta_cat'] = 'tickets'\n",
    "icats.loc[9, 'meta_cat'] = 'delivery'\n",
    "icats.loc[10:17, 'meta_cat'] = 'game_consoles'\n",
    "icats.loc[18:31, 'meta_cat'] = 'games'\n",
    "icats.loc[32:36, 'meta_cat'] = 'payment_cards'\n",
    "icats.loc[37:41, 'meta_cat'] = 'movie'\n",
    "icats.loc[42:54,'meta_cat'] = 'books'\n",
    "icats.loc[55:60,'meta_cat'] = 'music'\n",
    "icats.loc[61:72,'meta_cat'] = 'gifts'\n",
    "icats.loc[73:78,'meta_cat'] = 'programs'\n",
    "icats.loc[79,'meta_cat'] = 'cash_payment'\n",
    "icats.loc[81:82,'meta_cat'] = 'CD-DVD'\n",
    "icats.loc[83,'meta_cat'] = 'energy_source'"
   ]
  },
  {
   "cell_type": "code",
   "execution_count": 11,
   "metadata": {
    "_uuid": "74c12b0998d4fbe10736cfc2f68200f2df1e47f4"
   },
   "outputs": [
    {
     "data": {
      "text/plain": [
       "109"
      ]
     },
     "execution_count": 11,
     "metadata": {},
     "output_type": "execute_result"
    }
   ],
   "source": [
    "del min_max_prices, price_diff, winter_months\n",
    "del summer_months, spring_months, autumn_months\n",
    "del str_prices, ends_with_9, returned_items\n",
    "gc.collect()"
   ]
  },
  {
   "cell_type": "code",
   "execution_count": 12,
   "metadata": {
    "_uuid": "6431f23fa26180d8fca7ca31bac6672eb47284ee"
   },
   "outputs": [],
   "source": [
    "# pre-process the numerical features\n",
    "sales['item_price'] = np.log(sales.item_price)\n",
    "sales['item_cnt_day'] = sales.item_cnt_day.apply(cube_root)\n",
    "sales['revenue'] = sales.revenue.apply(cube_root)\n",
    "# drop unwanted cols\n",
    "sales = sales.drop(['day', 'month', 'year', 'item_price', 'weekday'], axis=1)"
   ]
  },
  {
   "cell_type": "code",
   "execution_count": 13,
   "metadata": {
    "_uuid": "f346c921e1289f0a5fecf2ee73eedd72c49e6e4a"
   },
   "outputs": [],
   "source": [
    "seasons = sales[['date_block_num', 'season']].drop_duplicates()\n",
    "price_cnst = sales[['item_id', 'price_cnst']].drop_duplicates()\n",
    "end_with_9 = sales[['item_id', 'end_with_9']].drop_duplicates()"
   ]
  },
  {
   "cell_type": "code",
   "execution_count": 14,
   "metadata": {
    "_uuid": "4d0242a4eec2c1ef4688f117fd64af8e2620af4a"
   },
   "outputs": [
    {
     "data": {
      "text/html": [
       "<div>\n",
       "<style scoped>\n",
       "    .dataframe tbody tr th:only-of-type {\n",
       "        vertical-align: middle;\n",
       "    }\n",
       "\n",
       "    .dataframe tbody tr th {\n",
       "        vertical-align: top;\n",
       "    }\n",
       "\n",
       "    .dataframe thead th {\n",
       "        text-align: right;\n",
       "    }\n",
       "</style>\n",
       "<table border=\"1\" class=\"dataframe\">\n",
       "  <thead>\n",
       "    <tr style=\"text-align: right;\">\n",
       "      <th></th>\n",
       "      <th>date_block_num</th>\n",
       "      <th>shop_id</th>\n",
       "      <th>item_id</th>\n",
       "      <th>item_cnt_day</th>\n",
       "      <th>price_cnst</th>\n",
       "      <th>season</th>\n",
       "      <th>revenue</th>\n",
       "      <th>end_with_9</th>\n",
       "    </tr>\n",
       "  </thead>\n",
       "  <tbody>\n",
       "    <tr>\n",
       "      <th>1267562</th>\n",
       "      <td>12</td>\n",
       "      <td>54</td>\n",
       "      <td>10297</td>\n",
       "      <td>1.0</td>\n",
       "      <td>0</td>\n",
       "      <td>winter</td>\n",
       "      <td>9.081563</td>\n",
       "      <td>1</td>\n",
       "    </tr>\n",
       "    <tr>\n",
       "      <th>1267563</th>\n",
       "      <td>12</td>\n",
       "      <td>54</td>\n",
       "      <td>10297</td>\n",
       "      <td>1.0</td>\n",
       "      <td>0</td>\n",
       "      <td>winter</td>\n",
       "      <td>9.081563</td>\n",
       "      <td>1</td>\n",
       "    </tr>\n",
       "    <tr>\n",
       "      <th>1267564</th>\n",
       "      <td>12</td>\n",
       "      <td>54</td>\n",
       "      <td>10297</td>\n",
       "      <td>1.0</td>\n",
       "      <td>0</td>\n",
       "      <td>winter</td>\n",
       "      <td>9.081563</td>\n",
       "      <td>1</td>\n",
       "    </tr>\n",
       "    <tr>\n",
       "      <th>1267565</th>\n",
       "      <td>12</td>\n",
       "      <td>54</td>\n",
       "      <td>10296</td>\n",
       "      <td>1.0</td>\n",
       "      <td>0</td>\n",
       "      <td>winter</td>\n",
       "      <td>11.693634</td>\n",
       "      <td>1</td>\n",
       "    </tr>\n",
       "    <tr>\n",
       "      <th>1267566</th>\n",
       "      <td>12</td>\n",
       "      <td>54</td>\n",
       "      <td>10297</td>\n",
       "      <td>1.0</td>\n",
       "      <td>0</td>\n",
       "      <td>winter</td>\n",
       "      <td>9.081563</td>\n",
       "      <td>1</td>\n",
       "    </tr>\n",
       "  </tbody>\n",
       "</table>\n",
       "</div>"
      ],
      "text/plain": [
       "         date_block_num  shop_id  item_id  item_cnt_day  price_cnst  season  \\\n",
       "1267562              12       54    10297           1.0           0  winter   \n",
       "1267563              12       54    10297           1.0           0  winter   \n",
       "1267564              12       54    10297           1.0           0  winter   \n",
       "1267565              12       54    10296           1.0           0  winter   \n",
       "1267566              12       54    10297           1.0           0  winter   \n",
       "\n",
       "           revenue  end_with_9  \n",
       "1267562   9.081563           1  \n",
       "1267563   9.081563           1  \n",
       "1267564   9.081563           1  \n",
       "1267565  11.693634           1  \n",
       "1267566   9.081563           1  "
      ]
     },
     "execution_count": 14,
     "metadata": {},
     "output_type": "execute_result"
    }
   ],
   "source": [
    "sales.head()"
   ]
  },
  {
   "cell_type": "code",
   "execution_count": 15,
   "metadata": {
    "_uuid": "69826b0a424150d668e2120154af5c45186bc474"
   },
   "outputs": [
    {
     "data": {
      "text/plain": [
       "77"
      ]
     },
     "execution_count": 15,
     "metadata": {},
     "output_type": "execute_result"
    }
   ],
   "source": [
    "# cols to index by\n",
    "index_cols = ['shop_id', 'item_id', 'date_block_num']\n",
    "\n",
    "# create the join ids\n",
    "grid = []\n",
    "for curr_block in sales['date_block_num'].unique():\n",
    "    curr_shops = list(set(sales.loc[sales['date_block_num'] == curr_block, 'shop_id'].unique()) - closed_shops)\n",
    "    curr_items = sales.loc[sales['date_block_num'] == curr_block, 'item_id'].unique()\n",
    "    grid.append(np.array(list(product(*[curr_shops, curr_items, [curr_block]])), dtype=np.int32))\n",
    "    \n",
    "grid = pd.DataFrame(np.vstack(grid), columns=index_cols, dtype=np.int32)\n",
    "\n",
    "# aggregate the target for the ids\n",
    "gp = sales.groupby(index_cols, as_index=False).agg({'item_cnt_day': {'target': 'sum'}})\n",
    "# fix the col names\n",
    "gp.columns = [col[0] if col[-1] == '' else col[-1] for col in gp.columns.values]\n",
    "# merge the two\n",
    "all_data = pd.merge(grid, gp, on=index_cols, how='left').fillna(0)\n",
    "\n",
    "# shop-month aggregates\n",
    "gp = sales.groupby(['shop_id', 'date_block_num'],as_index=False).agg({'item_cnt_day': {'target_shop': 'sum'}})\n",
    "gp.columns = [col[0] if col[-1] == '' else col[-1] for col in gp.columns.values]\n",
    "all_data = pd.merge(all_data, gp, on=['shop_id', 'date_block_num'], how='left').fillna(0)\n",
    "\n",
    "# shop-month revenue aggregates\n",
    "gp = sales.groupby(['shop_id', 'date_block_num'],as_index=False).agg({'revenue': {'revenue_shop': 'sum'}})\n",
    "gp.columns = [col[0] if col[-1] == '' else col[-1] for col in gp.columns.values]\n",
    "all_data = pd.merge(all_data, gp, on=['shop_id', 'date_block_num'], how='left').fillna(0)\n",
    "\n",
    "# item-month revenue aggregates\n",
    "gp = sales.groupby(['item_id', 'date_block_num'],as_index=False).agg({'revenue': {'revenue_item': 'sum'}})\n",
    "gp.columns = [col[0] if col[-1] == '' else col[-1] for col in gp.columns.values]\n",
    "all_data = pd.merge(all_data, gp, on=['item_id', 'date_block_num'], how='left').fillna(0)\n",
    "\n",
    "# items-month aggregates\n",
    "gp = sales.groupby(['item_id', 'date_block_num'],as_index=False).agg({'item_cnt_day': {'target_item': 'sum'}})\n",
    "gp.columns = [col[0] if col[-1] == '' else col[-1] for col in gp.columns.values]\n",
    "all_data = pd.merge(all_data, gp, on=['item_id', 'date_block_num'], how='left').fillna(0)\n",
    "\n",
    "del gp, grid\n",
    "gc.collect()"
   ]
  },
  {
   "cell_type": "code",
   "execution_count": 16,
   "metadata": {
    "_uuid": "7c40ea4e05881e6466b7295e5654cdfc736946ea"
   },
   "outputs": [
    {
     "data": {
      "text/html": [
       "<div>\n",
       "<style scoped>\n",
       "    .dataframe tbody tr th:only-of-type {\n",
       "        vertical-align: middle;\n",
       "    }\n",
       "\n",
       "    .dataframe tbody tr th {\n",
       "        vertical-align: top;\n",
       "    }\n",
       "\n",
       "    .dataframe thead th {\n",
       "        text-align: right;\n",
       "    }\n",
       "</style>\n",
       "<table border=\"1\" class=\"dataframe\">\n",
       "  <thead>\n",
       "    <tr style=\"text-align: right;\">\n",
       "      <th></th>\n",
       "      <th>shop_id</th>\n",
       "      <th>item_id</th>\n",
       "      <th>date_block_num</th>\n",
       "      <th>target</th>\n",
       "      <th>target_shop</th>\n",
       "      <th>revenue_shop</th>\n",
       "      <th>revenue_item</th>\n",
       "      <th>target_item</th>\n",
       "    </tr>\n",
       "  </thead>\n",
       "  <tbody>\n",
       "    <tr>\n",
       "      <th>0</th>\n",
       "      <td>2</td>\n",
       "      <td>10297</td>\n",
       "      <td>12</td>\n",
       "      <td>1.0</td>\n",
       "      <td>835.430182</td>\n",
       "      <td>7959.314421</td>\n",
       "      <td>208.875952</td>\n",
       "      <td>23.000000</td>\n",
       "    </tr>\n",
       "    <tr>\n",
       "      <th>1</th>\n",
       "      <td>2</td>\n",
       "      <td>10296</td>\n",
       "      <td>12</td>\n",
       "      <td>0.0</td>\n",
       "      <td>835.430182</td>\n",
       "      <td>7959.314421</td>\n",
       "      <td>197.420941</td>\n",
       "      <td>17.000000</td>\n",
       "    </tr>\n",
       "    <tr>\n",
       "      <th>2</th>\n",
       "      <td>2</td>\n",
       "      <td>10298</td>\n",
       "      <td>12</td>\n",
       "      <td>0.0</td>\n",
       "      <td>835.430182</td>\n",
       "      <td>7959.314421</td>\n",
       "      <td>1167.582259</td>\n",
       "      <td>159.235146</td>\n",
       "    </tr>\n",
       "    <tr>\n",
       "      <th>3</th>\n",
       "      <td>2</td>\n",
       "      <td>10300</td>\n",
       "      <td>12</td>\n",
       "      <td>0.0</td>\n",
       "      <td>835.430182</td>\n",
       "      <td>7959.314421</td>\n",
       "      <td>224.176997</td>\n",
       "      <td>25.259921</td>\n",
       "    </tr>\n",
       "    <tr>\n",
       "      <th>4</th>\n",
       "      <td>2</td>\n",
       "      <td>10284</td>\n",
       "      <td>12</td>\n",
       "      <td>0.0</td>\n",
       "      <td>835.430182</td>\n",
       "      <td>7959.314421</td>\n",
       "      <td>20.060649</td>\n",
       "      <td>3.000000</td>\n",
       "    </tr>\n",
       "  </tbody>\n",
       "</table>\n",
       "</div>"
      ],
      "text/plain": [
       "   shop_id  item_id  date_block_num  target  target_shop  revenue_shop  \\\n",
       "0        2    10297              12     1.0   835.430182   7959.314421   \n",
       "1        2    10296              12     0.0   835.430182   7959.314421   \n",
       "2        2    10298              12     0.0   835.430182   7959.314421   \n",
       "3        2    10300              12     0.0   835.430182   7959.314421   \n",
       "4        2    10284              12     0.0   835.430182   7959.314421   \n",
       "\n",
       "   revenue_item  target_item  \n",
       "0    208.875952    23.000000  \n",
       "1    197.420941    17.000000  \n",
       "2   1167.582259   159.235146  \n",
       "3    224.176997    25.259921  \n",
       "4     20.060649     3.000000  "
      ]
     },
     "execution_count": 16,
     "metadata": {},
     "output_type": "execute_result"
    }
   ],
   "source": [
    "all_data.head()"
   ]
  },
  {
   "cell_type": "code",
   "execution_count": 17,
   "metadata": {
    "_uuid": "3363bbc6fdf0edef756ca92593b1f17c178b691e"
   },
   "outputs": [
    {
     "data": {
      "application/vnd.jupyter.widget-view+json": {
       "model_id": "90979eafc83f41e0b2a208dfa1ccd8e3",
       "version_major": 2,
       "version_minor": 0
      },
      "text/plain": [
       "HBox(children=(IntProgress(value=0, max=5), HTML(value='')))"
      ]
     },
     "metadata": {},
     "output_type": "display_data"
    },
    {
     "ename": "MemoryError",
     "evalue": "",
     "output_type": "error",
     "traceback": [
      "\u001b[0;31m---------------------------------------------------------------------------\u001b[0m",
      "\u001b[0;31mMemoryError\u001b[0m                               Traceback (most recent call last)",
      "\u001b[0;32m<ipython-input-17-33157515738c>\u001b[0m in \u001b[0;36m<module>\u001b[0;34m()\u001b[0m\n\u001b[1;32m     12\u001b[0m     \u001b[0mtrain_shift\u001b[0m \u001b[0;34m=\u001b[0m \u001b[0mtrain_shift\u001b[0m\u001b[0;34m.\u001b[0m\u001b[0mrename\u001b[0m\u001b[0;34m(\u001b[0m\u001b[0mcolumns\u001b[0m\u001b[0;34m=\u001b[0m\u001b[0mfoo\u001b[0m\u001b[0;34m)\u001b[0m\u001b[0;34m\u001b[0m\u001b[0m\n\u001b[1;32m     13\u001b[0m \u001b[0;34m\u001b[0m\u001b[0m\n\u001b[0;32m---> 14\u001b[0;31m     \u001b[0mall_data\u001b[0m \u001b[0;34m=\u001b[0m \u001b[0mpd\u001b[0m\u001b[0;34m.\u001b[0m\u001b[0mmerge\u001b[0m\u001b[0;34m(\u001b[0m\u001b[0mall_data\u001b[0m\u001b[0;34m,\u001b[0m \u001b[0mtrain_shift\u001b[0m\u001b[0;34m,\u001b[0m \u001b[0mon\u001b[0m\u001b[0;34m=\u001b[0m\u001b[0mindex_cols\u001b[0m\u001b[0;34m,\u001b[0m \u001b[0mhow\u001b[0m\u001b[0;34m=\u001b[0m\u001b[0;34m'left'\u001b[0m\u001b[0;34m)\u001b[0m\u001b[0;34m.\u001b[0m\u001b[0mfillna\u001b[0m\u001b[0;34m(\u001b[0m\u001b[0;36m0\u001b[0m\u001b[0;34m)\u001b[0m\u001b[0;34m\u001b[0m\u001b[0m\n\u001b[0m\u001b[1;32m     15\u001b[0m \u001b[0;34m\u001b[0m\u001b[0m\n\u001b[1;32m     16\u001b[0m \u001b[0;32mdel\u001b[0m \u001b[0mtrain_shift\u001b[0m\u001b[0;34m\u001b[0m\u001b[0m\n",
      "\u001b[0;32m~/anaconda3/lib/python3.7/site-packages/pandas/core/frame.py\u001b[0m in \u001b[0;36mfillna\u001b[0;34m(self, value, method, axis, inplace, limit, downcast, **kwargs)\u001b[0m\n\u001b[1;32m   3788\u001b[0m                      \u001b[0mself\u001b[0m\u001b[0;34m)\u001b[0m\u001b[0;34m.\u001b[0m\u001b[0mfillna\u001b[0m\u001b[0;34m(\u001b[0m\u001b[0mvalue\u001b[0m\u001b[0;34m=\u001b[0m\u001b[0mvalue\u001b[0m\u001b[0;34m,\u001b[0m \u001b[0mmethod\u001b[0m\u001b[0;34m=\u001b[0m\u001b[0mmethod\u001b[0m\u001b[0;34m,\u001b[0m \u001b[0maxis\u001b[0m\u001b[0;34m=\u001b[0m\u001b[0maxis\u001b[0m\u001b[0;34m,\u001b[0m\u001b[0;34m\u001b[0m\u001b[0m\n\u001b[1;32m   3789\u001b[0m                                   \u001b[0minplace\u001b[0m\u001b[0;34m=\u001b[0m\u001b[0minplace\u001b[0m\u001b[0;34m,\u001b[0m \u001b[0mlimit\u001b[0m\u001b[0;34m=\u001b[0m\u001b[0mlimit\u001b[0m\u001b[0;34m,\u001b[0m\u001b[0;34m\u001b[0m\u001b[0m\n\u001b[0;32m-> 3790\u001b[0;31m                                   downcast=downcast, **kwargs)\n\u001b[0m\u001b[1;32m   3791\u001b[0m \u001b[0;34m\u001b[0m\u001b[0m\n\u001b[1;32m   3792\u001b[0m     \u001b[0;34m@\u001b[0m\u001b[0mAppender\u001b[0m\u001b[0;34m(\u001b[0m\u001b[0m_shared_docs\u001b[0m\u001b[0;34m[\u001b[0m\u001b[0;34m'replace'\u001b[0m\u001b[0;34m]\u001b[0m \u001b[0;34m%\u001b[0m \u001b[0m_shared_doc_kwargs\u001b[0m\u001b[0;34m)\u001b[0m\u001b[0;34m\u001b[0m\u001b[0m\n",
      "\u001b[0;32m~/anaconda3/lib/python3.7/site-packages/pandas/core/generic.py\u001b[0m in \u001b[0;36mfillna\u001b[0;34m(self, value, method, axis, inplace, limit, downcast)\u001b[0m\n\u001b[1;32m   5348\u001b[0m         \u001b[0mvalue\u001b[0m\u001b[0;34m,\u001b[0m \u001b[0mmethod\u001b[0m \u001b[0;34m=\u001b[0m \u001b[0mvalidate_fillna_kwargs\u001b[0m\u001b[0;34m(\u001b[0m\u001b[0mvalue\u001b[0m\u001b[0;34m,\u001b[0m \u001b[0mmethod\u001b[0m\u001b[0;34m)\u001b[0m\u001b[0;34m\u001b[0m\u001b[0m\n\u001b[1;32m   5349\u001b[0m \u001b[0;34m\u001b[0m\u001b[0m\n\u001b[0;32m-> 5350\u001b[0;31m         \u001b[0mself\u001b[0m\u001b[0;34m.\u001b[0m\u001b[0m_consolidate_inplace\u001b[0m\u001b[0;34m(\u001b[0m\u001b[0;34m)\u001b[0m\u001b[0;34m\u001b[0m\u001b[0m\n\u001b[0m\u001b[1;32m   5351\u001b[0m \u001b[0;34m\u001b[0m\u001b[0m\n\u001b[1;32m   5352\u001b[0m         \u001b[0;31m# set the default here, so functions examining the signaure\u001b[0m\u001b[0;34m\u001b[0m\u001b[0;34m\u001b[0m\u001b[0m\n",
      "\u001b[0;32m~/anaconda3/lib/python3.7/site-packages/pandas/core/generic.py\u001b[0m in \u001b[0;36m_consolidate_inplace\u001b[0;34m(self)\u001b[0m\n\u001b[1;32m   4437\u001b[0m             \u001b[0mself\u001b[0m\u001b[0;34m.\u001b[0m\u001b[0m_data\u001b[0m \u001b[0;34m=\u001b[0m \u001b[0mself\u001b[0m\u001b[0;34m.\u001b[0m\u001b[0m_data\u001b[0m\u001b[0;34m.\u001b[0m\u001b[0mconsolidate\u001b[0m\u001b[0;34m(\u001b[0m\u001b[0;34m)\u001b[0m\u001b[0;34m\u001b[0m\u001b[0m\n\u001b[1;32m   4438\u001b[0m \u001b[0;34m\u001b[0m\u001b[0m\n\u001b[0;32m-> 4439\u001b[0;31m         \u001b[0mself\u001b[0m\u001b[0;34m.\u001b[0m\u001b[0m_protect_consolidate\u001b[0m\u001b[0;34m(\u001b[0m\u001b[0mf\u001b[0m\u001b[0;34m)\u001b[0m\u001b[0;34m\u001b[0m\u001b[0m\n\u001b[0m\u001b[1;32m   4440\u001b[0m \u001b[0;34m\u001b[0m\u001b[0m\n\u001b[1;32m   4441\u001b[0m     \u001b[0;32mdef\u001b[0m \u001b[0m_consolidate\u001b[0m\u001b[0;34m(\u001b[0m\u001b[0mself\u001b[0m\u001b[0;34m,\u001b[0m \u001b[0minplace\u001b[0m\u001b[0;34m=\u001b[0m\u001b[0;32mFalse\u001b[0m\u001b[0;34m)\u001b[0m\u001b[0;34m:\u001b[0m\u001b[0;34m\u001b[0m\u001b[0m\n",
      "\u001b[0;32m~/anaconda3/lib/python3.7/site-packages/pandas/core/generic.py\u001b[0m in \u001b[0;36m_protect_consolidate\u001b[0;34m(self, f)\u001b[0m\n\u001b[1;32m   4426\u001b[0m         \"\"\"\n\u001b[1;32m   4427\u001b[0m         \u001b[0mblocks_before\u001b[0m \u001b[0;34m=\u001b[0m \u001b[0mlen\u001b[0m\u001b[0;34m(\u001b[0m\u001b[0mself\u001b[0m\u001b[0;34m.\u001b[0m\u001b[0m_data\u001b[0m\u001b[0;34m.\u001b[0m\u001b[0mblocks\u001b[0m\u001b[0;34m)\u001b[0m\u001b[0;34m\u001b[0m\u001b[0m\n\u001b[0;32m-> 4428\u001b[0;31m         \u001b[0mresult\u001b[0m \u001b[0;34m=\u001b[0m \u001b[0mf\u001b[0m\u001b[0;34m(\u001b[0m\u001b[0;34m)\u001b[0m\u001b[0;34m\u001b[0m\u001b[0m\n\u001b[0m\u001b[1;32m   4429\u001b[0m         \u001b[0;32mif\u001b[0m \u001b[0mlen\u001b[0m\u001b[0;34m(\u001b[0m\u001b[0mself\u001b[0m\u001b[0;34m.\u001b[0m\u001b[0m_data\u001b[0m\u001b[0;34m.\u001b[0m\u001b[0mblocks\u001b[0m\u001b[0;34m)\u001b[0m \u001b[0;34m!=\u001b[0m \u001b[0mblocks_before\u001b[0m\u001b[0;34m:\u001b[0m\u001b[0;34m\u001b[0m\u001b[0m\n\u001b[1;32m   4430\u001b[0m             \u001b[0mself\u001b[0m\u001b[0;34m.\u001b[0m\u001b[0m_clear_item_cache\u001b[0m\u001b[0;34m(\u001b[0m\u001b[0;34m)\u001b[0m\u001b[0;34m\u001b[0m\u001b[0m\n",
      "\u001b[0;32m~/anaconda3/lib/python3.7/site-packages/pandas/core/generic.py\u001b[0m in \u001b[0;36mf\u001b[0;34m()\u001b[0m\n\u001b[1;32m   4435\u001b[0m \u001b[0;34m\u001b[0m\u001b[0m\n\u001b[1;32m   4436\u001b[0m         \u001b[0;32mdef\u001b[0m \u001b[0mf\u001b[0m\u001b[0;34m(\u001b[0m\u001b[0;34m)\u001b[0m\u001b[0;34m:\u001b[0m\u001b[0;34m\u001b[0m\u001b[0m\n\u001b[0;32m-> 4437\u001b[0;31m             \u001b[0mself\u001b[0m\u001b[0;34m.\u001b[0m\u001b[0m_data\u001b[0m \u001b[0;34m=\u001b[0m \u001b[0mself\u001b[0m\u001b[0;34m.\u001b[0m\u001b[0m_data\u001b[0m\u001b[0;34m.\u001b[0m\u001b[0mconsolidate\u001b[0m\u001b[0;34m(\u001b[0m\u001b[0;34m)\u001b[0m\u001b[0;34m\u001b[0m\u001b[0m\n\u001b[0m\u001b[1;32m   4438\u001b[0m \u001b[0;34m\u001b[0m\u001b[0m\n\u001b[1;32m   4439\u001b[0m         \u001b[0mself\u001b[0m\u001b[0;34m.\u001b[0m\u001b[0m_protect_consolidate\u001b[0m\u001b[0;34m(\u001b[0m\u001b[0mf\u001b[0m\u001b[0;34m)\u001b[0m\u001b[0;34m\u001b[0m\u001b[0m\n",
      "\u001b[0;32m~/anaconda3/lib/python3.7/site-packages/pandas/core/internals.py\u001b[0m in \u001b[0;36mconsolidate\u001b[0;34m(self)\u001b[0m\n\u001b[1;32m   4096\u001b[0m         \u001b[0mbm\u001b[0m \u001b[0;34m=\u001b[0m \u001b[0mself\u001b[0m\u001b[0;34m.\u001b[0m\u001b[0m__class__\u001b[0m\u001b[0;34m(\u001b[0m\u001b[0mself\u001b[0m\u001b[0;34m.\u001b[0m\u001b[0mblocks\u001b[0m\u001b[0;34m,\u001b[0m \u001b[0mself\u001b[0m\u001b[0;34m.\u001b[0m\u001b[0maxes\u001b[0m\u001b[0;34m)\u001b[0m\u001b[0;34m\u001b[0m\u001b[0m\n\u001b[1;32m   4097\u001b[0m         \u001b[0mbm\u001b[0m\u001b[0;34m.\u001b[0m\u001b[0m_is_consolidated\u001b[0m \u001b[0;34m=\u001b[0m \u001b[0;32mFalse\u001b[0m\u001b[0;34m\u001b[0m\u001b[0m\n\u001b[0;32m-> 4098\u001b[0;31m         \u001b[0mbm\u001b[0m\u001b[0;34m.\u001b[0m\u001b[0m_consolidate_inplace\u001b[0m\u001b[0;34m(\u001b[0m\u001b[0;34m)\u001b[0m\u001b[0;34m\u001b[0m\u001b[0m\n\u001b[0m\u001b[1;32m   4099\u001b[0m         \u001b[0;32mreturn\u001b[0m \u001b[0mbm\u001b[0m\u001b[0;34m\u001b[0m\u001b[0m\n\u001b[1;32m   4100\u001b[0m \u001b[0;34m\u001b[0m\u001b[0m\n",
      "\u001b[0;32m~/anaconda3/lib/python3.7/site-packages/pandas/core/internals.py\u001b[0m in \u001b[0;36m_consolidate_inplace\u001b[0;34m(self)\u001b[0m\n\u001b[1;32m   4101\u001b[0m     \u001b[0;32mdef\u001b[0m \u001b[0m_consolidate_inplace\u001b[0m\u001b[0;34m(\u001b[0m\u001b[0mself\u001b[0m\u001b[0;34m)\u001b[0m\u001b[0;34m:\u001b[0m\u001b[0;34m\u001b[0m\u001b[0m\n\u001b[1;32m   4102\u001b[0m         \u001b[0;32mif\u001b[0m \u001b[0;32mnot\u001b[0m \u001b[0mself\u001b[0m\u001b[0;34m.\u001b[0m\u001b[0mis_consolidated\u001b[0m\u001b[0;34m(\u001b[0m\u001b[0;34m)\u001b[0m\u001b[0;34m:\u001b[0m\u001b[0;34m\u001b[0m\u001b[0m\n\u001b[0;32m-> 4103\u001b[0;31m             \u001b[0mself\u001b[0m\u001b[0;34m.\u001b[0m\u001b[0mblocks\u001b[0m \u001b[0;34m=\u001b[0m \u001b[0mtuple\u001b[0m\u001b[0;34m(\u001b[0m\u001b[0m_consolidate\u001b[0m\u001b[0;34m(\u001b[0m\u001b[0mself\u001b[0m\u001b[0;34m.\u001b[0m\u001b[0mblocks\u001b[0m\u001b[0;34m)\u001b[0m\u001b[0;34m)\u001b[0m\u001b[0;34m\u001b[0m\u001b[0m\n\u001b[0m\u001b[1;32m   4104\u001b[0m             \u001b[0mself\u001b[0m\u001b[0;34m.\u001b[0m\u001b[0m_is_consolidated\u001b[0m \u001b[0;34m=\u001b[0m \u001b[0;32mTrue\u001b[0m\u001b[0;34m\u001b[0m\u001b[0m\n\u001b[1;32m   4105\u001b[0m             \u001b[0mself\u001b[0m\u001b[0;34m.\u001b[0m\u001b[0m_known_consolidated\u001b[0m \u001b[0;34m=\u001b[0m \u001b[0;32mTrue\u001b[0m\u001b[0;34m\u001b[0m\u001b[0m\n",
      "\u001b[0;32m~/anaconda3/lib/python3.7/site-packages/pandas/core/internals.py\u001b[0m in \u001b[0;36m_consolidate\u001b[0;34m(blocks)\u001b[0m\n\u001b[1;32m   5067\u001b[0m     \u001b[0;32mfor\u001b[0m \u001b[0;34m(\u001b[0m\u001b[0m_can_consolidate\u001b[0m\u001b[0;34m,\u001b[0m \u001b[0mdtype\u001b[0m\u001b[0;34m)\u001b[0m\u001b[0;34m,\u001b[0m \u001b[0mgroup_blocks\u001b[0m \u001b[0;32min\u001b[0m \u001b[0mgrouper\u001b[0m\u001b[0;34m:\u001b[0m\u001b[0;34m\u001b[0m\u001b[0m\n\u001b[1;32m   5068\u001b[0m         merged_blocks = _merge_blocks(list(group_blocks), dtype=dtype,\n\u001b[0;32m-> 5069\u001b[0;31m                                       _can_consolidate=_can_consolidate)\n\u001b[0m\u001b[1;32m   5070\u001b[0m         \u001b[0mnew_blocks\u001b[0m \u001b[0;34m=\u001b[0m \u001b[0m_extend_blocks\u001b[0m\u001b[0;34m(\u001b[0m\u001b[0mmerged_blocks\u001b[0m\u001b[0;34m,\u001b[0m \u001b[0mnew_blocks\u001b[0m\u001b[0;34m)\u001b[0m\u001b[0;34m\u001b[0m\u001b[0m\n\u001b[1;32m   5071\u001b[0m     \u001b[0;32mreturn\u001b[0m \u001b[0mnew_blocks\u001b[0m\u001b[0;34m\u001b[0m\u001b[0m\n",
      "\u001b[0;32m~/anaconda3/lib/python3.7/site-packages/pandas/core/internals.py\u001b[0m in \u001b[0;36m_merge_blocks\u001b[0;34m(blocks, dtype, _can_consolidate)\u001b[0m\n\u001b[1;32m   5090\u001b[0m \u001b[0;34m\u001b[0m\u001b[0m\n\u001b[1;32m   5091\u001b[0m         \u001b[0margsort\u001b[0m \u001b[0;34m=\u001b[0m \u001b[0mnp\u001b[0m\u001b[0;34m.\u001b[0m\u001b[0margsort\u001b[0m\u001b[0;34m(\u001b[0m\u001b[0mnew_mgr_locs\u001b[0m\u001b[0;34m)\u001b[0m\u001b[0;34m\u001b[0m\u001b[0m\n\u001b[0;32m-> 5092\u001b[0;31m         \u001b[0mnew_values\u001b[0m \u001b[0;34m=\u001b[0m \u001b[0mnew_values\u001b[0m\u001b[0;34m[\u001b[0m\u001b[0margsort\u001b[0m\u001b[0;34m]\u001b[0m\u001b[0;34m\u001b[0m\u001b[0m\n\u001b[0m\u001b[1;32m   5093\u001b[0m         \u001b[0mnew_mgr_locs\u001b[0m \u001b[0;34m=\u001b[0m \u001b[0mnew_mgr_locs\u001b[0m\u001b[0;34m[\u001b[0m\u001b[0margsort\u001b[0m\u001b[0;34m]\u001b[0m\u001b[0;34m\u001b[0m\u001b[0m\n\u001b[1;32m   5094\u001b[0m \u001b[0;34m\u001b[0m\u001b[0m\n",
      "\u001b[0;31mMemoryError\u001b[0m: "
     ]
    }
   ],
   "source": [
    "# List of columns that we will use to create lags\n",
    "cols_to_rename = list(all_data.columns.difference(index_cols)) \n",
    "\n",
    "shift_range = [1,2,4,6,12]\n",
    "\n",
    "for month_shift in tqdm_notebook(shift_range):\n",
    "    train_shift = all_data[index_cols + cols_to_rename].copy()\n",
    "    \n",
    "    train_shift['date_block_num'] = train_shift['date_block_num'] + month_shift\n",
    "    \n",
    "    foo = lambda x: '{}_lag_{}'.format(x, month_shift) if x in cols_to_rename else x\n",
    "    train_shift = train_shift.rename(columns=foo)\n",
    "\n",
    "    all_data = pd.merge(all_data, train_shift, on=index_cols, how='left').fillna(0)\n",
    "\n",
    "del train_shift\n",
    "\n",
    "# List of all lagged features\n",
    "fit_cols = [col for col in all_data.columns if col[-1] in [str(item) for item in shift_range]] \n",
    "# We will drop these at fitting stage\n",
    "to_drop_cols = list(set(list(all_data.columns)) - (set(fit_cols)|set(index_cols))) + ['date_block_num'] \n",
    "\n",
    "del  fit_cols\n",
    "gc.collect();"
   ]
  },
  {
   "cell_type": "code",
   "execution_count": null,
   "metadata": {
    "_uuid": "5fbd0d55ae2687a9d49fc5477b1e77a59dfcd97d"
   },
   "outputs": [],
   "source": [
    "# merge shop locations, inflation ,hol-count, seasons, const_price and end_with_9 in all_data\n",
    "all_data = pd.merge(all_data, shops[['shop_id', 'location']], on='shop_id', how='left')\n",
    "all_data = pd.merge(all_data, inflation, on='date_block_num', how='left')\n",
    "all_data = pd.merge(all_data, hol, on='date_block_num', how='left').fillna(0)\n",
    "items_cats = pd.merge(items[['item_id', 'itc_id', 'item_returned']], icats[['itc_id', 'meta_cat']], on='itc_id')\n",
    "all_data = pd.merge(all_data, items_cats, on='item_id', how='left')\n",
    "all_data = pd.merge(all_data, seasons, on='date_block_num', how='left')\n",
    "all_data = pd.merge(all_data, price_cnst, on='item_id', how='left')\n",
    "all_data = pd.merge(all_data, end_with_9, on='item_id', how='left')\n",
    "# downcast the datatypes\n",
    "all_data  = downcast_dtypes(all_data)"
   ]
  },
  {
   "cell_type": "code",
   "execution_count": null,
   "metadata": {
    "_uuid": "7024dbb53926e5b72acfe3a8b3d84de7b05515c5"
   },
   "outputs": [],
   "source": [
    "all_data.head()"
   ]
  },
  {
   "cell_type": "code",
   "execution_count": 70,
   "metadata": {
    "_uuid": "a691d0d44a6f010db87eafe605f50ac7185a0909"
   },
   "outputs": [
    {
     "data": {
      "text/plain": [
       "474"
      ]
     },
     "execution_count": 70,
     "metadata": {},
     "output_type": "execute_result"
    }
   ],
   "source": [
    "del sales, shops, items, seasons, price_cnst\n",
    "del icats, hol, inflation, items_cats, end_with_9\n",
    "gc.collect()"
   ]
  },
  {
   "cell_type": "markdown",
   "metadata": {
    "_uuid": "c947c171b73ebb2ad057e2eb52e641a6efb19cb9"
   },
   "source": [
    "### Training"
   ]
  },
  {
   "cell_type": "code",
   "execution_count": null,
   "metadata": {
    "_uuid": "c7971f7e184e5969bda2d36eb7a0838a5d439573"
   },
   "outputs": [],
   "source": [
    "val_31 = pd.merge(test, all_data[all_data.date_block_num == 31], on=['shop_id', 'item_id'], how='left').fillna(0)"
   ]
  },
  {
   "cell_type": "code",
   "execution_count": null,
   "metadata": {
    "_uuid": "08ec65109fa191d40e7e1618ced96ffe8219ffea"
   },
   "outputs": [],
   "source": [
    "X = all_data.drop(['date_block_num', 'target'], axis=1)\n",
    "y = all_data['target']\n",
    "\n",
    "month_blocks = all_data['date_block_num'] \n",
    "cat_features = [0,1,16]\n",
    "\n",
    "del all_data\n",
    "gc.collect()"
   ]
  },
  {
   "cell_type": "code",
   "execution_count": null,
   "metadata": {
    "_uuid": "e28641f039327456e19e9531db8c8eb84bdfc80e"
   },
   "outputs": [],
   "source": [
    "X_train = X[month_blocks < 31]\n",
    "y_train = y[month_blocks < 31]\n",
    "X_eval = val_31.drop(['date_block_num', 'target'], axis=1)\n",
    "y_eval = val_31['target']\n",
    "\n",
    "del X, y, val_31\n",
    "gc.collect()"
   ]
  },
  {
   "cell_type": "code",
   "execution_count": null,
   "metadata": {
    "_uuid": "febffad5ac0eac132b72398ff6bc0f9fd76b0c16"
   },
   "outputs": [],
   "source": [
    "from catboost import Pool\n",
    "from catboost import CatBoostRegressor"
   ]
  },
  {
   "cell_type": "code",
   "execution_count": null,
   "metadata": {
    "_uuid": "d0a338fdae38099673a7d2c646e373df7244a1c9"
   },
   "outputs": [],
   "source": [
    "pool_train = Pool(data=X_train, label=y_train, cat_features=cat_features)\n",
    "pool_eval = Pool(data=X_eval, label=y_eval, cat_features=cat_features)"
   ]
  },
  {
   "cell_type": "code",
   "execution_count": null,
   "metadata": {
    "_uuid": "9ff042f55051db76195555a803120585a12cab6c"
   },
   "outputs": [],
   "source": [
    "# model = CatBoostRegressor(\n",
    "#     iterations=500,\n",
    "#     random_seed=0,\n",
    "#     learning_rate=0.1,\n",
    "#     depth=7,\n",
    "#     task_type = \"GPU\", \n",
    "#     snapshot_file='snapshot.bkp',\n",
    "#     max_ctr_complexity=3\n",
    "# )"
   ]
  },
  {
   "cell_type": "code",
   "execution_count": null,
   "metadata": {
    "_uuid": "9faf5e3b9474023fc018701889db7daf73edaacd"
   },
   "outputs": [],
   "source": [
    "# model.fit(\n",
    "#     pool_train,\n",
    "#     eval_set=pool_eval,\n",
    "#     logging_level='Silent', \n",
    "#     plot=True\n",
    "# )"
   ]
  },
  {
   "cell_type": "code",
   "execution_count": 14,
   "metadata": {
    "_uuid": "465d644a9a8c5ae1c4233b3c9db728eda7b96858"
   },
   "outputs": [],
   "source": [
    "sub = pd.read_csv('sub_with_unsold.csv')"
   ]
  },
  {
   "cell_type": "code",
   "execution_count": 18,
   "metadata": {},
   "outputs": [],
   "source": [
    "ids = list(test[test.item_id.isin(unsold_items)].index)"
   ]
  },
  {
   "cell_type": "code",
   "execution_count": 22,
   "metadata": {
    "_uuid": "5433d30ced06e136e717bd3e4fbcd68076a93beb"
   },
   "outputs": [],
   "source": [
    "sub.loc[ids, 'item_cnt_month'] = 0"
   ]
  },
  {
   "cell_type": "code",
   "execution_count": 24,
   "metadata": {
    "_uuid": "662f5e1caee8d1efef6920a9b5c75d076da81429"
   },
   "outputs": [],
   "source": [
    "sub.to_csv('sub_wo_unsold.csv')"
   ]
  }
 ],
 "metadata": {
  "kernelspec": {
   "display_name": "Python 3",
   "language": "python",
   "name": "python3"
  },
  "language_info": {
   "codemirror_mode": {
    "name": "ipython",
    "version": 3
   },
   "file_extension": ".py",
   "mimetype": "text/x-python",
   "name": "python",
   "nbconvert_exporter": "python",
   "pygments_lexer": "ipython3",
   "version": "3.7.0"
  }
 },
 "nbformat": 4,
 "nbformat_minor": 1
}
