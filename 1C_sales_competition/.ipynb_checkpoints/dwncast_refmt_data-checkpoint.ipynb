{
 "cells": [
  {
   "cell_type": "code",
   "execution_count": 1,
   "metadata": {},
   "outputs": [],
   "source": [
    "import pandas as pd\n",
    "import numpy as np\n",
    "import feather\n",
    "import os"
   ]
  },
  {
   "cell_type": "code",
   "execution_count": 2,
   "metadata": {},
   "outputs": [],
   "source": [
    "data_folder = os.getcwd()+'/data/formatted_data/'"
   ]
  },
  {
   "cell_type": "markdown",
   "metadata": {},
   "source": [
    "**Note: can use multiple cols for downcast, eg: df[float_cols] = df[float_cosl].astype[np.int32]**"
   ]
  },
  {
   "cell_type": "code",
   "execution_count": 3,
   "metadata": {},
   "outputs": [],
   "source": [
    "# test dataframe\n",
    "test = pd.read_csv('data/test.csv.gz', compression='gzip', header=0)\n",
    "test.name = 'test'\n",
    "\n",
    "# downcast to int32\n",
    "for col in test.columns:\n",
    "    test[col] = test[col].astype(np.int32)\n",
    "    \n",
    "test.to_pickle(data_folder+'test.pkl')"
   ]
  },
  {
   "cell_type": "code",
   "execution_count": 16,
   "metadata": {},
   "outputs": [],
   "source": [
    "def get_dt_block_num(datetime):\n",
    "    if datetime.year == 2013:\n",
    "        return datetime.month - 1\n",
    "    elif datetime.year == 2014:\n",
    "        return datetime.month + 11\n",
    "    else:\n",
    "        return datetime.month + 23"
   ]
  },
  {
   "cell_type": "code",
   "execution_count": 31,
   "metadata": {},
   "outputs": [],
   "source": [
    "# hol dataframe\n",
    "hol = feather.read_dataframe('data/hol.feather')\n",
    "hol_to_drop = ['Season', 'Working day (moved weekend)', 'Observance', 'Observance, Orthodox']\n",
    "drop_hol_idx = list(hol[hol.h_type.isin(hol_to_drop)].index) + [17]\n",
    "hol.drop(drop_hol_idx, axis=0, inplace=True)\n",
    "hol.reset_index(drop=True, inplace=True)\n",
    "hol['date_block_num']  = hol['date'].apply(get_dt_block_num)\n",
    "\n",
    "new_hol_df = pd.DataFrame(hol.groupby('date_block_num').size(), columns= ['hol_count']).reset_index()\n",
    "new_hol_df[['date_block_num', 'hol_count']] = new_hol_df[['date_block_num', 'hol_count']].astype(np.int32) \n",
    "\n",
    "new_hol_df.to_pickle(data_folder+'hol.pkl')"
   ]
  },
  {
   "cell_type": "code",
   "execution_count": 44,
   "metadata": {},
   "outputs": [],
   "source": [
    "# items\n",
    "items = feather.read_dataframe('data/it_en.feather')\n",
    "items.columns = ['it_name', 'item_id', 'itc_id', 'en_it_name']\n",
    "items.name = 'items'\n",
    "\n",
    "# downcast to int32\n",
    "for col in items.select_dtypes(exclude=object).columns:\n",
    "    items[col] = items[col].astype(np.int32)\n",
    "\n",
    "items.to_pickle(data_folder+'items.pkl')"
   ]
  },
  {
   "cell_type": "code",
   "execution_count": 45,
   "metadata": {},
   "outputs": [],
   "source": [
    "# items categories\n",
    "icats = feather.read_dataframe('data/itc_en.feather')\n",
    "icats.name = 'icats'\n",
    "\n",
    "# downcast to int32\n",
    "for col in icats.select_dtypes(exclude=object).columns:\n",
    "    icats[col] = icats[col].astype(np.int32)\n",
    "\n",
    "icats.to_pickle(data_folder+'icats.pkl')"
   ]
  },
  {
   "cell_type": "code",
   "execution_count": 46,
   "metadata": {},
   "outputs": [],
   "source": [
    "# shops\n",
    "shops = feather.read_dataframe('data/sh_en.feather')\n",
    "shops.columns = ['sname', 'shop_id', 'en_sname']\n",
    "shops.name = 'shops'\n",
    "\n",
    "# downcast to int32\n",
    "for col in shops.select_dtypes(exclude=object).columns:\n",
    "    shops[col] = shops[col].astype(np.int32)\n",
    "\n",
    "shops.to_pickle(data_folder+'shops.pkl')"
   ]
  },
  {
   "cell_type": "code",
   "execution_count": 3,
   "metadata": {},
   "outputs": [
    {
     "data": {
      "text/html": [
       "<div>\n",
       "<style scoped>\n",
       "    .dataframe tbody tr th:only-of-type {\n",
       "        vertical-align: middle;\n",
       "    }\n",
       "\n",
       "    .dataframe tbody tr th {\n",
       "        vertical-align: top;\n",
       "    }\n",
       "\n",
       "    .dataframe thead th {\n",
       "        text-align: right;\n",
       "    }\n",
       "</style>\n",
       "<table border=\"1\" class=\"dataframe\">\n",
       "  <thead>\n",
       "    <tr style=\"text-align: right;\">\n",
       "      <th></th>\n",
       "      <th>date</th>\n",
       "      <th>date_block_num</th>\n",
       "      <th>shop_id</th>\n",
       "      <th>item_id</th>\n",
       "      <th>item_price</th>\n",
       "      <th>item_cnt_day</th>\n",
       "    </tr>\n",
       "  </thead>\n",
       "  <tbody>\n",
       "    <tr>\n",
       "      <th>0</th>\n",
       "      <td>02.01.2013</td>\n",
       "      <td>0</td>\n",
       "      <td>59</td>\n",
       "      <td>22154</td>\n",
       "      <td>999.00</td>\n",
       "      <td>1.0</td>\n",
       "    </tr>\n",
       "    <tr>\n",
       "      <th>1</th>\n",
       "      <td>03.01.2013</td>\n",
       "      <td>0</td>\n",
       "      <td>25</td>\n",
       "      <td>2552</td>\n",
       "      <td>899.00</td>\n",
       "      <td>1.0</td>\n",
       "    </tr>\n",
       "    <tr>\n",
       "      <th>2</th>\n",
       "      <td>05.01.2013</td>\n",
       "      <td>0</td>\n",
       "      <td>25</td>\n",
       "      <td>2552</td>\n",
       "      <td>899.00</td>\n",
       "      <td>-1.0</td>\n",
       "    </tr>\n",
       "    <tr>\n",
       "      <th>3</th>\n",
       "      <td>06.01.2013</td>\n",
       "      <td>0</td>\n",
       "      <td>25</td>\n",
       "      <td>2554</td>\n",
       "      <td>1709.05</td>\n",
       "      <td>1.0</td>\n",
       "    </tr>\n",
       "    <tr>\n",
       "      <th>4</th>\n",
       "      <td>15.01.2013</td>\n",
       "      <td>0</td>\n",
       "      <td>25</td>\n",
       "      <td>2555</td>\n",
       "      <td>1099.00</td>\n",
       "      <td>1.0</td>\n",
       "    </tr>\n",
       "  </tbody>\n",
       "</table>\n",
       "</div>"
      ],
      "text/plain": [
       "         date  date_block_num  shop_id  item_id  item_price  item_cnt_day\n",
       "0  02.01.2013               0       59    22154      999.00           1.0\n",
       "1  03.01.2013               0       25     2552      899.00           1.0\n",
       "2  05.01.2013               0       25     2552      899.00          -1.0\n",
       "3  06.01.2013               0       25     2554     1709.05           1.0\n",
       "4  15.01.2013               0       25     2555     1099.00           1.0"
      ]
     },
     "execution_count": 3,
     "metadata": {},
     "output_type": "execute_result"
    }
   ],
   "source": [
    "from multiprocessing import Pool\n",
    "\n",
    "train = pd.read_csv('data/sales_train.csv.gz', compression='gzip', header=0)\n",
    "train.head()"
   ]
  },
  {
   "cell_type": "code",
   "execution_count": 4,
   "metadata": {},
   "outputs": [],
   "source": [
    "#re-format date feature\n",
    "def to_datetime(v):\n",
    "    #convert string date to d/m/y format\n",
    "    return pd.to_datetime(v, format=\"%d.%m.%Y\")\n",
    "\n",
    "with Pool(5) as p:\n",
    "    data = p.map(to_datetime, train.date.values)\n",
    "    train.loc[:, 'date'] = data"
   ]
  },
  {
   "cell_type": "code",
   "execution_count": 5,
   "metadata": {},
   "outputs": [],
   "source": [
    "# train\n",
    "train.name = 'train'\n",
    "train['day'] = train.date.dt.day\n",
    "train['month'] = train.date.dt.month\n",
    "train['year'] = train.date.dt.year\n",
    "train['weekday'] = train.date.apply(lambda x: x.weekday() < 4) * 1\n",
    "train.drop('date', axis=1, inplace=True)\n",
    "\n",
    "# downcast to int32\n",
    "for col in ['date_block_num', 'shop_id', 'item_id', 'item_cnt_day', 'day', 'month', 'year', 'weekday']:\n",
    "    train[col] = train[col].astype(np.int32)\n",
    "\n",
    "train.to_pickle(data_folder+'train.pkl')"
   ]
  },
  {
   "cell_type": "code",
   "execution_count": 3,
   "metadata": {},
   "outputs": [
    {
     "data": {
      "text/html": [
       "<div>\n",
       "<style scoped>\n",
       "    .dataframe tbody tr th:only-of-type {\n",
       "        vertical-align: middle;\n",
       "    }\n",
       "\n",
       "    .dataframe tbody tr th {\n",
       "        vertical-align: top;\n",
       "    }\n",
       "\n",
       "    .dataframe thead th {\n",
       "        text-align: right;\n",
       "    }\n",
       "</style>\n",
       "<table border=\"1\" class=\"dataframe\">\n",
       "  <thead>\n",
       "    <tr style=\"text-align: right;\">\n",
       "      <th></th>\n",
       "      <th>date_block_num</th>\n",
       "      <th>infla_rate</th>\n",
       "    </tr>\n",
       "  </thead>\n",
       "  <tbody>\n",
       "    <tr>\n",
       "      <th>0</th>\n",
       "      <td>0</td>\n",
       "      <td>0.97</td>\n",
       "    </tr>\n",
       "    <tr>\n",
       "      <th>1</th>\n",
       "      <td>1</td>\n",
       "      <td>0.56</td>\n",
       "    </tr>\n",
       "    <tr>\n",
       "      <th>2</th>\n",
       "      <td>2</td>\n",
       "      <td>0.34</td>\n",
       "    </tr>\n",
       "    <tr>\n",
       "      <th>3</th>\n",
       "      <td>3</td>\n",
       "      <td>0.51</td>\n",
       "    </tr>\n",
       "    <tr>\n",
       "      <th>4</th>\n",
       "      <td>4</td>\n",
       "      <td>0.66</td>\n",
       "    </tr>\n",
       "  </tbody>\n",
       "</table>\n",
       "</div>"
      ],
      "text/plain": [
       "   date_block_num  infla_rate\n",
       "0               0        0.97\n",
       "1               1        0.56\n",
       "2               2        0.34\n",
       "3               3        0.51\n",
       "4               4        0.66"
      ]
     },
     "execution_count": 3,
     "metadata": {},
     "output_type": "execute_result"
    }
   ],
   "source": [
    "# read inflation file\n",
    "inflation = pd.read_csv('data/monthly_inflation.csv', names=['date_block_num', 'infla_rate'])\n",
    "inflation.head()"
   ]
  },
  {
   "cell_type": "code",
   "execution_count": 4,
   "metadata": {},
   "outputs": [],
   "source": [
    "inflation['date_block_num'] = inflation['date_block_num'].astype(np.int32)\n",
    "inflation['infla_rate'] = inflation['infla_rate'].astype(np.float32)\n",
    "inflation.to_pickle(data_folder+'inflation.pkl')"
   ]
  }
 ],
 "metadata": {
  "kernelspec": {
   "display_name": "Python 3",
   "language": "python",
   "name": "python3"
  },
  "language_info": {
   "codemirror_mode": {
    "name": "ipython",
    "version": 3
   },
   "file_extension": ".py",
   "mimetype": "text/x-python",
   "name": "python",
   "nbconvert_exporter": "python",
   "pygments_lexer": "ipython3",
   "version": "3.7.0"
  }
 },
 "nbformat": 4,
 "nbformat_minor": 1
}
