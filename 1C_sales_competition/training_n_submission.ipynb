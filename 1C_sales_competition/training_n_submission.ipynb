{
  "cells": [
    {
      "metadata": {
        "_uuid": "c14951b3edb1fd1d6b99935c6f3e61fb5dbe2b8a"
      },
      "cell_type": "markdown",
      "source": "### Load libraries and data"
    },
    {
      "metadata": {
        "_uuid": "8f2839f25d086af736a60e9eeb907d3b93b6e0e5",
        "_cell_guid": "b1076dfc-b9ad-4769-8c92-a6c4dae69d19",
        "trusted": true
      },
      "cell_type": "code",
      "source": "import gc\nimport pandas as pd\npd.set_option('display.max_rows', 500)\npd.set_option('display.max_columns', 100)\nimport numpy as np\nimport matplotlib.pyplot as plt\nfrom xgboost import XGBRegressor\nfrom xgboost import plot_importance\n\ndef plot_features(booster, figsize):    \n    fig, ax = plt.subplots(1,1,figsize=figsize)\n    return plot_importance(booster=booster, ax=ax)\n\ndata_folder = \"../input/\"\ngrid = pd.read_pickle(data_folder+'grid.pkl')",
      "execution_count": 1,
      "outputs": []
    },
    {
      "metadata": {
        "_uuid": "d3f5ba147d5710865648dd9f26bc966109b6c09c"
      },
      "cell_type": "markdown",
      "source": "### Feature selection"
    },
    {
      "metadata": {
        "trusted": true,
        "_uuid": "bd59103910c341f095565cbc47c8302a72d0eb1d"
      },
      "cell_type": "code",
      "source": "grid = grid.iloc[:, :40]",
      "execution_count": 2,
      "outputs": []
    },
    {
      "metadata": {
        "trusted": true,
        "_uuid": "8a9fe6f93e233bd93b2e91e6ec85adebdc026bcf"
      },
      "cell_type": "code",
      "source": "#above_40 = list(grid.iloc[:, 40:].columns)",
      "execution_count": 3,
      "outputs": []
    },
    {
      "metadata": {
        "trusted": true,
        "_uuid": "6003f64cd56f017e8ad8f9af6796b6c90a58b8a9"
      },
      "cell_type": "code",
      "source": "#grid = grid[imp_cols + above_40 + ['item_cnt_month']]",
      "execution_count": null,
      "outputs": []
    },
    {
      "metadata": {
        "trusted": true,
        "_uuid": "9d7a2a2f3004e3179845bdad0c3702059d29887b"
      },
      "cell_type": "code",
      "source": "X_train = grid[grid.date_block_num < 33].drop(['item_cnt_month'], axis=1)\nY_train = grid[grid.date_block_num < 33]['item_cnt_month']\nX_valid = grid[grid.date_block_num == 33].drop(['item_cnt_month'], axis=1)\nY_valid = grid[grid.date_block_num == 33]['item_cnt_month']\nX_test = grid[grid.date_block_num == 34].drop(['item_cnt_month'], axis=1)",
      "execution_count": null,
      "outputs": []
    },
    {
      "metadata": {
        "trusted": true,
        "_uuid": "55df4863c3ffe19cd8e50ec93f7d0223ebc579ed"
      },
      "cell_type": "code",
      "source": "del grid\ngc.collect()",
      "execution_count": null,
      "outputs": []
    },
    {
      "metadata": {
        "_cell_guid": "79c7e3d0-c299-4dcb-8224-4455121ee9b0",
        "_uuid": "d629ff2d2480ee46fbb7e2d37f6b5fab8052498a",
        "trusted": true
      },
      "cell_type": "code",
      "source": "model = XGBRegressor(\n    max_depth=8,\n    n_estimators=1000,\n    min_child_weight=300, \n    colsample_bytree=0.8, \n    subsample=0.8, \n    eta=0.3,    \n    seed=42)\n\nmodel.fit(\n    X_train, \n    Y_train, \n    eval_metric=\"rmse\", \n    eval_set=[(X_train, Y_train), (X_valid, Y_valid)], \n    verbose=True, \n    early_stopping_rounds = 10)",
      "execution_count": null,
      "outputs": []
    },
    {
      "metadata": {
        "_uuid": "5a425929b5a372a87f82a293d8f6df6c16674c83"
      },
      "cell_type": "markdown",
      "source": "### Plot the feature importance"
    },
    {
      "metadata": {
        "trusted": true,
        "_uuid": "49916fa76a4f63c3929bb2efb8984fb8b5cbf956"
      },
      "cell_type": "code",
      "source": "plot_features(model, (10,14))",
      "execution_count": null,
      "outputs": []
    },
    {
      "metadata": {
        "trusted": true,
        "_uuid": "29ae32dee69f74f23a330431a019cd9e1bd91853"
      },
      "cell_type": "code",
      "source": "med = np.median(model.feature_importances_)\nimp_cols = list(X_train.columns[model.feature_importances_ > med])",
      "execution_count": null,
      "outputs": []
    },
    {
      "metadata": {
        "trusted": true,
        "_uuid": "9b34473cc227ad2971c360d2497739d3907a92d7"
      },
      "cell_type": "code",
      "source": "imp_cols",
      "execution_count": null,
      "outputs": []
    },
    {
      "metadata": {
        "_uuid": "e62a39914980402f3dd99935694368e6b13f46f1"
      },
      "cell_type": "markdown",
      "source": "### Final trainning and Submission generation"
    },
    {
      "metadata": {
        "trusted": true,
        "_uuid": "e0cdd33e91383304c1d843fe3f0b49fb6433dc7c"
      },
      "cell_type": "code",
      "source": "model = XGBRegressor(\n    max_depth=8,\n    n_estimators=62,\n    min_child_weight=300, \n    colsample_bytree=0.8, \n    subsample=0.8, \n    eta=0.3,    \n    seed=42)\nmodel.fit(grid[grid.date_block_num < 34].drop(['item_cnt_month'], axis=1), grid[grid.date_block_num < 34]['item_cnt_month'])",
      "execution_count": null,
      "outputs": []
    },
    {
      "metadata": {
        "trusted": true,
        "_uuid": "4d7194179aed2a018c4473879765d0a441377959"
      },
      "cell_type": "code",
      "source": "preds = model.predict(X_test).clip(0,20)\nsubmission = pd.DataFrame({\n    \"ID\": range(214200), \n    \"item_cnt_month\": preds\n    })\nsubmission.to_csv('xgb.csv')",
      "execution_count": null,
      "outputs": []
    }
  ],
  "metadata": {
    "kernelspec": {
      "display_name": "Python 3",
      "language": "python",
      "name": "python3"
    },
    "language_info": {
      "name": "python",
      "version": "3.6.6",
      "mimetype": "text/x-python",
      "codemirror_mode": {
        "name": "ipython",
        "version": 3
      },
      "pygments_lexer": "ipython3",
      "nbconvert_exporter": "python",
      "file_extension": ".py"
    }
  },
  "nbformat": 4,
  "nbformat_minor": 1
}